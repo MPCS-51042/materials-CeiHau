{
 "cells": [
  {
   "cell_type": "markdown",
   "metadata": {},
   "source": [
    "### You are now a published open source developer who has learned lots of things.\n",
    "\n",
    "- You have learned about the value of having automated tests for code\n",
    "- You have studied and contributed to an automated testing framework similar to pytest.\n",
    "- You have extended, analyzed, and evaluated the code of a data analysis tool similar to pandas\n",
    "\n",
    "So your bosses at Phoenix Software, Inc have decided to promote you from phoenixlets to full-fledged phoenixes (phoenices?) \n",
    "\n",
    "Phoenices are qualified to handle all the steps of the software development process, from planning to testing to execution. "
   ]
  },
  {
   "cell_type": "markdown",
   "metadata": {},
   "source": [
    "## Step 1: Feedback Review and Ideation\n",
    "\n",
    "[Here is a collection](https://docs.google.com/spreadsheets/d/1QE6HOAgfznxp7NE1qEjfQVwz633VuspgNEjKPjq4UAA/edit?usp=sharing) of feature request feedback from the programmers using the curent version of your phoenixcel library. "
   ]
  },
  {
   "cell_type": "markdown",
   "metadata": {},
   "source": [
    "**Look through this data with your group and:**\n",
    "    \n",
    "1. List some features you might want to implement for the library\n",
    "2. Prioritize the features in priority order from most to least important"
   ]
  },
  {
   "cell_type": "markdown",
   "metadata": {},
   "source": [
    "## Step 2: The Spec\n",
    "\n",
    "You have seen from your homework how important and valuable it is to have automated tests. Automated testing is how we make sure that our code in `phoenixcel` does what we expect it to do, and will work for all of our clients! So today, we are going to try out **test-driven development** and write a test for our highest priority feature. \n",
    "\n",
    "As you write this test provides a good opportunity to talk amogst your group:\n",
    "\n",
    "- How should clients use the feature?\n",
    "- What should it be called?\n",
    "- What data does it need to take in?\n",
    "- Should it return anything?\n",
    "- Should it modify anything?\n",
    "- Should it be _fluent_ (fit into the existing fluent interface of the DataFrame)? \n",
    "\n",
    "Luckily, you have already written a lovely testing framework, which we can import right here to help us write the test:"
   ]
  },
  {
   "cell_type": "code",
   "execution_count": null,
   "metadata": {},
   "outputs": [],
   "source": [
    "import csv \n",
    "from phoenixcel.dataframe import Series, GroupBy, DataFrame"
   ]
  },
  {
   "cell_type": "code",
   "execution_count": null,
   "metadata": {},
   "outputs": [],
   "source": [
    "import sys\n",
    "!{sys.executable} -m pip install colorama \n",
    "\n",
    "sys.path.insert(0, '..')\n",
    "from test_framework_exercise.phoenix_test.matchers import FailedAssertion, Assertion, assert_that\n",
    "from test_framework_exercise.phoenix_test.test import Test\n",
    "sys.path.remove('..')"
   ]
  },
  {
   "cell_type": "code",
   "execution_count": null,
   "metadata": {},
   "outputs": [],
   "source": [
    "## Write your test(s) here. You don't have to use this EXACT test.\n",
    "## It's just here to provide you with syntax examples.\n",
    "\n",
    "class PhoenixCellFeatureTest(Test): #you might wanna change this name\n",
    "    def test_something(self):\n",
    "        df = DataFrame.from_dictionary({\n",
    "            'number_column' : [1, 2, 3, 4, 5],\n",
    "            'letter_column' : ['A', 'B', 'B', 'C', 'C']\n",
    "        })\n",
    "        assert_that(df['number_column']).equals([1, 2, 3, 4, 5])\n",
    "        assert_that(df['letter_column'][1]).equals('B')\n",
    "\n",
    "PhoenixCellFeatureTest().run()"
   ]
  },
  {
   "cell_type": "markdown",
   "metadata": {},
   "source": [
    "## Step 3: Implementation\n",
    "\n",
    "Okay, so, your test fails because your implementation doesn't do anything yet. It's time to make it pass! Implement your feature by extending the characteristics of `DataFrame`, `Series`, or `GroupBy`. You can do that right here in the notebook if you want to by importing those classes and then inheriting from them, like this:"
   ]
  },
  {
   "cell_type": "code",
   "execution_count": null,
   "metadata": {},
   "outputs": [],
   "source": [
    "class DataFrame(DataFrame):\n",
    "    pass\n",
    "\n",
    "class GroupBy(GroupBy):\n",
    "    pass\n",
    "\n",
    "class Series(Series):\n",
    "    pass"
   ]
  },
  {
   "cell_type": "markdown",
   "metadata": {},
   "source": [
    "**note**: You may not need to add functionality to _all_ of these classes, depending on what feature you choose to implement. "
   ]
  },
  {
   "cell_type": "markdown",
   "metadata": {},
   "source": [
    "## Step 4: Documentation\n",
    "\n",
    "Make sure your clients know how to use your feature! You can do this with two especially valuable kinds of documentation:\n",
    "\n",
    "1. A docstring: the comment inside the function that describes what the function does and lists its inputs, outputs, and what it modifies\n",
    "2. A usage example: Write some example code that uses your new feature, with comments explaining what's going on."
   ]
  },
  {
   "cell_type": "code",
   "execution_count": null,
   "metadata": {},
   "outputs": [],
   "source": []
  },
  {
   "cell_type": "markdown",
   "metadata": {},
   "source": [
    "## Step 5: Integration\n",
    "\n",
    "Okay—it's time to get your feature ready to add to the library!\n",
    "\n",
    "1. Check out a new branch of the `materials` repo that you are in. Name it after your new feature.\n",
    "2. Go into the files in the `phoenixcel` folder (in this directory) and add your new functionality to those files.\n",
    "3. Open a pull request against the `materials` repo\n",
    "4. Don't forget to explain in the description why you added this feature!"
   ]
  },
  {
   "cell_type": "code",
   "execution_count": null,
   "metadata": {},
   "outputs": [],
   "source": []
  }
 ],
 "metadata": {
  "kernelspec": {
   "display_name": "Python 3",
   "language": "python",
   "name": "python3"
  },
  "language_info": {
   "codemirror_mode": {
    "name": "ipython",
    "version": 3
   },
   "file_extension": ".py",
   "mimetype": "text/x-python",
   "name": "python",
   "nbconvert_exporter": "python",
   "pygments_lexer": "ipython3",
   "version": "3.9.0"
  }
 },
 "nbformat": 4,
 "nbformat_minor": 4
}
