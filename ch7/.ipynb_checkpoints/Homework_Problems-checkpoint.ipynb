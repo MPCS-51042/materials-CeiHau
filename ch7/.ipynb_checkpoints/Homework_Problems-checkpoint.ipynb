{
 "cells": [
  {
   "cell_type": "markdown",
   "metadata": {},
   "source": [
    "## Problem 1\n",
    "\n",
    "Write a generator function called unique(iterable, key=None) that yields values from an iterable that are unique, where uniqueness is determined based on a \"key\" function. If no key function is provided, the default is to use the value itself in determining uniqueness. When a key function is provided, the result of calling key on each value in the iterable is used in determining uniqueness. Note in the examples below that the values yielded are from the original iterable, not the result of the key function."
   ]
  },
  {
   "cell_type": "code",
   "execution_count": null,
   "metadata": {},
   "outputs": [],
   "source": [
    "Example:\n",
    "    \n",
    ">>> list(unique(\"aaadddpppzzzaaa\"))\n",
    "['a', 'd', 'p', 'z']\n",
    "\n",
    ">>> list(unique(\"aAadDdpPpzZz\", str.upper))\n",
    "['a', 'd', 'p', 'z']\n",
    "\n",
    ">>> def first_digit(x):\n",
    "...     return int(str(x)[0])\n",
    "\n",
    ">>> for x in unique((10, 1, 100, 2019, 2, 25), first_digit):\n",
    "...     print(x)\n",
    "10\n",
    "2019\n",
    "\n",
    ">>> list(unique([1.25, 2.50, 1.75, 2.25], lambda x: int(x)))\n",
    "[1.25, 2.5]"
   ]
  },
  {
   "cell_type": "code",
   "execution_count": null,
   "metadata": {},
   "outputs": [],
   "source": [
    "## Problem 2\n",
    "\n",
    "Problem 2\n",
    "Write a generator function called unique(iterable, key=None) that yields values from an iterable that are unique, where uniqueness is determined based on a \"key\" function. If no key function is provided, the default is to use the value itself in determining uniqueness. When a key function is provided, the result of calling key on each value in the iterable is used in determining uniqueness. Note in the examples below that the values yielded are from the original iterable, not the result of the key function.\n",
    "Example:\n",
    ">>> list(unique(\"aaadddpppzzzaaa\"))\n",
    "['a', 'd', 'p', 'z']\n",
    "\n",
    ">>> list(unique(\"aAadDdpPpzZz\", str.upper))\n",
    "['a', 'd', 'p', 'z']\n",
    "\n",
    ">>> def first_digit(x):\n",
    "...     return int(str(x)[0])\n",
    "\n",
    ">>> for x in unique((10, 1, 100, 2019, 2, 25), first_digit):\n",
    "...     print(x)\n",
    "10\n",
    "2019\n",
    "\n",
    ">>> list(unique([1.25, 2.50, 1.75, 2.25], lambda x: int(x)))\n",
    "[1.25, 2.5]\n"
   ]
  },
  {
   "cell_type": "code",
   "execution_count": null,
   "metadata": {},
   "outputs": [],
   "source": []
  }
 ],
 "metadata": {
  "kernelspec": {
   "display_name": "Python 3",
   "language": "python",
   "name": "python3"
  },
  "language_info": {
   "codemirror_mode": {
    "name": "ipython",
    "version": 3
   },
   "file_extension": ".py",
   "mimetype": "text/x-python",
   "name": "python",
   "nbconvert_exporter": "python",
   "pygments_lexer": "ipython3",
   "version": "3.6.8"
  }
 },
 "nbformat": 4,
 "nbformat_minor": 4
}
