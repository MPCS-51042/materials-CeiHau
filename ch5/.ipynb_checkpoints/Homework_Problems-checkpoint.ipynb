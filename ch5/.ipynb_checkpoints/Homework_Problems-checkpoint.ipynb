{
 "cells": [
  {
   "cell_type": "code",
   "execution_count": null,
   "metadata": {},
   "outputs": [],
   "source": [
    "## Problem 1\n",
    "\n",
    "In the Swift programming language, the Array datatype (somewhat equivalent to Python's list) has a number of methods which list in Python does not have. For this problem, you are to write a subclass of list that provides some of these methods.\n",
    "Specifications\n",
    "The class should be named SwiftArray and should inherit from the built-in list class.\n",
    "The allSatisfy(predicate) method tests whether all items in the list satisfy a given predicate (function of one argument that returns a Boolean value).\n",
    "The drop(predicate) method returns a list containing only elements of the original list that do not satisfy the given predicate. As with the allSatisfy method, the predicate is a function taking one argument and returning a Boolean value.\n",
    "The min(by) method returns the minimum element in the list. The by argument should take a default value of None, in which case elements are compared using their value directly. The by argument allows a non-default comparison to be made between elements; it should be a function taking two arguments and returning True if the first argument should be ordered before its second argument and False otherwise.\n",
    "The partition(predicate) method reorders the elements of the list such that all elements that match the given predicate are after all element the elements that don't match. Note that this is an in-place operation, i.e., it should not return a new list. This method also returns the index of the first element in the reordered list that matches the predicate.\n",
    "Example Interaction\n",
    ">>> x = SwiftArray([1, -3, 10, 5])\n",
    ">>> x.allSatisfy(lambda v: isinstance(v, int))\n",
    "True\n",
    ">>> def even(v):\n",
    "...     return v % 2 == 0\n",
    ">>> x.drop(even)\n",
    "[1, -3, 5]\n",
    ">>> x.min()\n",
    "-3\n",
    ">>> x.min(lambda a, b: abs(a) < abs(b))\n",
    "1\n",
    ">>> x.min(lambda a, b: a > b)\n",
    "10\n",
    ">>> first = x.partition(lambda v: v < 0)\n",
    ">>> x\n",
    "[1, 10, 5, -3]\n",
    ">>> x[first]\n",
    "-3\n"
   ]
  }
 ],
 "metadata": {
  "kernelspec": {
   "display_name": "Python 3",
   "language": "python",
   "name": "python3"
  },
  "language_info": {
   "codemirror_mode": {
    "name": "ipython",
    "version": 3
   },
   "file_extension": ".py",
   "mimetype": "text/x-python",
   "name": "python",
   "nbconvert_exporter": "python",
   "pygments_lexer": "ipython3",
   "version": "3.6.8"
  }
 },
 "nbformat": 4,
 "nbformat_minor": 4
}
