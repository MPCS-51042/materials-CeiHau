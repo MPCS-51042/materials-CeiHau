{
 "cells": [
  {
   "cell_type": "markdown",
   "metadata": {},
   "source": [
    "What's already on a Python object?\n",
    "\n",
    "Explain the `__dir__` method, chelsea\n",
    "\n",
    "Then go into what data model methods are\n",
    "\n",
    "There are some methods all python objects have or can have\n",
    "\n",
    "You can change these methods (see below"
   ]
  },
  {
   "cell_type": "markdown",
   "metadata": {},
   "source": [
    "### Dunder Methods\n",
    "\n",
    "Dunder methods (also known as special methods) allows us to define methods that make our user-defined types behave like the built-in types. For example, printing out the contents within an object is easily done with ``str``, ``list``, ``dict`` and many other built-in types. "
   ]
  },
  {
   "cell_type": "code",
   "execution_count": null,
   "metadata": {},
   "outputs": [],
   "source": [
    "print([1,2,3,5])"
   ]
  },
  {
   "cell_type": "code",
   "execution_count": null,
   "metadata": {},
   "outputs": [],
   "source": [
    "print(\"This is a string\")"
   ]
  },
  {
   "cell_type": "markdown",
   "metadata": {},
   "source": [
    "However, with our current implementation of the ``Car`` method, we do not see our atttributes."
   ]
  },
  {
   "cell_type": "code",
   "execution_count": null,
   "metadata": {},
   "outputs": [],
   "source": [
    "car = Car(\"Honda\",\"Accord\", 2019)"
   ]
  },
  {
   "cell_type": "code",
   "execution_count": null,
   "metadata": {},
   "outputs": [],
   "source": [
    "print(car)"
   ]
  },
  {
   "cell_type": "markdown",
   "metadata": {},
   "source": [
    "This is the default *string representation* of the object.  ``print(car)``, for some objects, prints out the address of where the object lives within memory and not the its actual contents. \n",
    "\n",
    "\n",
    "We can override this behaviour by adding a ``__repr__`` method. This method returns a string that will be used anytime we need to print our new data types internal contents. \n",
    "\n",
    "**Note**: there is also another string representation method called ``__str__``. The differences between the two are subtle; however, we will go over them when we go over dunder methods in more detail next week. \n",
    "\n",
    "Now, lets add the ``__repr__`` method to our ``Car`` class. "
   ]
  },
  {
   "cell_type": "code",
   "execution_count": null,
   "metadata": {},
   "outputs": [],
   "source": [
    "class Car: \n",
    "    def __init__(self, make, model, year):\n",
    "        self.__make = make \n",
    "        self.__model = model \n",
    "        self.__year = year\n",
    "        \n",
    "    def __repr__(self): \n",
    "        return f'Car(make={self.__make}, model={self.__model}, year={self.__year})'"
   ]
  },
  {
   "cell_type": "code",
   "execution_count": null,
   "metadata": {},
   "outputs": [],
   "source": [
    "# Now we are able to see a better string representation for Car objects \n",
    "car = Car(\"Honda\",\"Accord\", 2019)\n",
    "print(car)"
   ]
  },
  {
   "cell_type": "markdown",
   "metadata": {},
   "source": [
    "There is also a dunder that allows us to check equality between two objects (i.e., using the ``==`` operator). By default, Python checks whether objects refer to the same memory locations in memory but not if there internal data is the same."
   ]
  },
  {
   "cell_type": "code",
   "execution_count": null,
   "metadata": {},
   "outputs": [],
   "source": [
    "car_1 = Car(\"Honda\",\"Accord\", 2019)\n",
    "car_2 = Car(\"Honda\",\"Accord\", 2019)\n",
    "\n",
    "#False, because although their internal data is the same they are two completely different \n",
    "# objects in memory. \n",
    "print(car_1 == car_2)"
   ]
  },
  {
   "cell_type": "markdown",
   "metadata": {},
   "source": [
    "However, we can implement an ``__eq__`` method to define how Python should interpret the ``==`` operator."
   ]
  },
  {
   "cell_type": "code",
   "execution_count": null,
   "metadata": {},
   "outputs": [],
   "source": [
    "class Car: \n",
    "    def __init__(self, make, model, year):\n",
    "        self.__make = make \n",
    "        self.__model = model \n",
    "        self.__year = year\n",
    "    \n",
    "    def __eq__(self, other): \n",
    "        return self.__make == other.__make and self.__model == other.__model and self.__year == other.__year\n",
    "    def __repr__(self): \n",
    "        return f'Car(make={self.__make}, model={self.__model}, year={self.__year})'"
   ]
  },
  {
   "cell_type": "code",
   "execution_count": null,
   "metadata": {},
   "outputs": [],
   "source": [
    "# Before defining equal \n",
    "car_1 = Car(\"Honda\",\"Accord\", 2019)\n",
    "car_2 = Car(\"Honda\",\"Accord\", 2019)\n",
    "\n",
    "#True, because we have implement the \"__eq__\" method which overrides the default implementation \n",
    "# and now we are checking the internal data, which is the same. \n",
    "print(car_1 == car_2)"
   ]
  },
  {
   "cell_type": "code",
   "execution_count": null,
   "metadata": {},
   "outputs": [],
   "source": []
  },
  {
   "cell_type": "markdown",
   "metadata": {},
   "source": [
    "### Operator Overloading \n",
    "\n",
    "Python allows for **operator overloading**, which allows classes their \n",
    "own implementations for predefined Python operators: \n",
    "\n",
    "- Allows us to define methods that make our user-defined types behave like built-in types.\n",
    "- Allows standard library tools to work with our user-defined types.\n",
    "\n",
    "\n",
    "Operator overloading is done by using *special methods* (i.e., dunder methods), which are methods surrounded by double underscores that, when implemented, customize the behavior of a class. \n",
    "\n",
    "Classes implicitly inherit from ``object`` class and thereby inherit its methods, including any default behavior for double-underscore methods. We already had exposure to the following dunder methods: \n",
    " \n",
    " - ``__init__``\n",
    " - ``__str__``\n",
    " - ``__repr__``\n",
    " - ``__eq__``"
   ]
  },
  {
   "cell_type": "markdown",
   "metadata": {},
   "source": [
    "#### Motivating Example \n",
    "\n",
    "To demonstrate operator overloading, we'll implement a sequence type seen in other languages known as a *static array*:\n",
    "\n",
    "- A static array is a sequence type where there is a fixed capacity to number of items the collection can hold.\n",
    "\n",
    "- Resizing of the array is not allowed after initialization. \n",
    "\n",
    "- We will define a class ``StaticArray`` that will allow use to use built-in python operators."
   ]
  },
  {
   "cell_type": "code",
   "execution_count": null,
   "metadata": {},
   "outputs": [],
   "source": [
    "#Do not run just showing what we eventually want to be able to do with StaticArray objects \n",
    "\n",
    "from static_array import StaticArray\n",
    "\n",
    "s_array = StaticArray([1,2,3])\n",
    "print(s_array * 2) \n",
    "# Should produce the following \n",
    "# (cap = 10, items = [1, 2, 3, None, None, 1, 2, 3, None, None])\n",
    "print(s_array[1]) \n",
    "# Should produce the following \n",
    "# 2     `"
   ]
  },
  {
   "cell_type": "markdown",
   "metadata": {},
   "source": [
    "See the full implementation of ``StaticArray`` inside the upstream repository under lectures/week6/static_array.py "
   ]
  },
  {
   "cell_type": "markdown",
   "metadata": {},
   "source": [
    "Lets now take a look at the ``__init__`` method for ``Static Array``:"
   ]
  },
  {
   "cell_type": "code",
   "execution_count": null,
   "metadata": {},
   "outputs": [],
   "source": [
    "from collections.abc import Iterable\n",
    "\n",
    "class StaticArray:\n",
    "\n",
    "    def __init__(self, initVal = None, capacity = 5):\n",
    "        if isinstance(initVal, Iterable):\n",
    "            self.items = [None] * capacity\n",
    "            for idx,item in enumerate(initVal): \n",
    "                if idx >= capacity:\n",
    "                    break \n",
    "                else:\n",
    "                    self.items[idx] = item \n",
    "            self.capacity = capacity\n",
    "        else: \n",
    "            self.items = [initVal] * capacity  \n",
    "            self.capacity = capacity"
   ]
  },
  {
   "cell_type": "code",
   "execution_count": null,
   "metadata": {},
   "outputs": [],
   "source": [
    "s_array = StaticArray([1,2,3])"
   ]
  },
  {
   "cell_type": "code",
   "execution_count": null,
   "metadata": {},
   "outputs": [],
   "source": [
    "#Printing doesn't provide use any useful information about the object.\n",
    "# Lets fix that now. \n",
    "print(s_array)"
   ]
  },
  {
   "cell_type": "markdown",
   "metadata": {},
   "source": [
    "#### String Representations \n",
    "\n",
    "There are two functions for getting a string representation of an object:\n",
    "    \n",
    "    1. ``repr()`` - Used to specify an unambiguous string representation of an instance. Mostly used for debugging and development. **Note**: the interpreter in the REPL calls the ``__repr__`` function when executing a variable that holds an object. \n",
    "    \n",
    "    2. ``str()`` - Used to specify a handy, readable string representation of an instance. Mostly used for creating output for end users. **Note**: ``print`` calls the ``__str__`` implementation. \n",
    "    \n",
    "As we seen previously, we just need to define ``__repr__`` and ``__str__`` methods to provide string representations for our classes. \n",
    "\n",
    "**Note**: ``__str__`` defaults to ``__repr__`` when not present. "
   ]
  },
  {
   "cell_type": "code",
   "execution_count": null,
   "metadata": {},
   "outputs": [],
   "source": [
    "from collections.abc import Iterable\n",
    "\n",
    "class StaticArray:\n",
    "\n",
    "    def __init__(self, initVal = None, capacity = 5):\n",
    "        if isinstance(initVal, Iterable):\n",
    "            self.items = [None] * capacity\n",
    "            for idx,item in enumerate(initVal): \n",
    "                if idx >= capacity:\n",
    "                    break \n",
    "                else:\n",
    "                    self.items[idx] = item \n",
    "            self.capacity = capacity\n",
    "        else: \n",
    "            self.items = [initVal] * capacity  \n",
    "            self.capacity = capacity\n",
    "    \n",
    "    #### String Representations \n",
    "    def __repr__(self):\n",
    "        return f'(cap = {self.capacity}, items = {self.items})'\n",
    "    \n",
    "    def __str__(self):\n",
    "        # Printing it in just list form is more user friendly. \n",
    "        return f'{self.items}'"
   ]
  },
  {
   "cell_type": "code",
   "execution_count": null,
   "metadata": {},
   "outputs": [],
   "source": [
    "s_array = StaticArray([1,2,3])"
   ]
  },
  {
   "cell_type": "code",
   "execution_count": null,
   "metadata": {},
   "outputs": [],
   "source": [
    "s_array  # Calling the _repr_ implementation"
   ]
  },
  {
   "cell_type": "code",
   "execution_count": null,
   "metadata": {},
   "outputs": [],
   "source": [
    "print(s_array) # Calling the __str__ implementation"
   ]
  },
  {
   "cell_type": "markdown",
   "metadata": {},
   "source": [
    "#### Emulating Collections/Sequences \n",
    "\n",
    "**What makes an object a collection**? \n",
    "\n",
    "- Can take its length: ``len(obj)``\n",
    "- Can query meembership: ``x in obj``\n",
    "- Can iterate over it: ``for x in obj`` \n",
    "\n",
    "**What makes an object a sequence**?\n",
    "\n",
    "- Everything a collection can do \n",
    "- Can index it: ``obg[i]``\n"
   ]
  },
  {
   "cell_type": "markdown",
   "metadata": {},
   "source": [
    "#### Collections and Sequences \n",
    "\n",
    "| You Write...   | Python calls...          |\n",
    "| ---            | ---                      |\n",
    "| ``len(obj)``   | ``obj.__len__()``        |\n",
    "| ``x in obj``   | ``obj.__contains__(x)``  |\n",
    "| ``obj[i]``     | ``obj.__getitem__(i)``   |\n",
    "| ``obj[i] = x`` | ``obj.__setitem__(i,x)`` |\n",
    "| ``del obj[i]`` | ``obj.__delitem__(i)``   |"
   ]
  },
  {
   "cell_type": "code",
   "execution_count": null,
   "metadata": {},
   "outputs": [],
   "source": [
    "from collections.abc import Iterable\n",
    "\n",
    "class StaticArray:\n",
    "\n",
    "    def __init__(self, initVal = None, capacity = 5):\n",
    "        if isinstance(initVal, Iterable):\n",
    "            self.items = [None] * capacity\n",
    "            for idx,item in enumerate(initVal): \n",
    "                if idx >= capacity:\n",
    "                    break \n",
    "                else:\n",
    "                    self.items[idx] = item \n",
    "            self.capacity = capacity\n",
    "        else: \n",
    "            self.items = [initVal] * capacity  \n",
    "            self.capacity = capacity\n",
    "\n",
    "    def __repr__(self):\n",
    "        return f'(cap = {self.capacity}, items = {self.items})'\n",
    "    def __str__(self):\n",
    "        return f'{self.items}'\n",
    "    \n",
    "    ############################################\n",
    "    #### Sequence Operartions implementation ###\n",
    "    def __len__(self):\n",
    "        return self.capacity \n",
    "    def __contains__(self, x):\n",
    "        return x in self.items \n",
    "    def __getitem__(self, i):\n",
    "        if i >= self.capacity or i < -self.capacity:\n",
    "            raise IndexError # an Invalid index\n",
    "        return self.items[i]\n",
    "    def __setitem__(self, i, x):\n",
    "        if i >= self.capacity or i < -self.capacity:\n",
    "            raise IndexError # an Invalid index\n",
    "        self.items[i] = x \n",
    "    def __delitem__(self,i):\n",
    "        raise NotImplementedError(\"Cannot delete from a static array\")"
   ]
  },
  {
   "cell_type": "code",
   "execution_count": null,
   "metadata": {},
   "outputs": [],
   "source": [
    "s_array = StaticArray([1,'hi',True])"
   ]
  },
  {
   "cell_type": "code",
   "execution_count": null,
   "metadata": {},
   "outputs": [],
   "source": [
    "len(s_array)"
   ]
  },
  {
   "cell_type": "code",
   "execution_count": null,
   "metadata": {},
   "outputs": [],
   "source": [
    "34 in s_array"
   ]
  },
  {
   "cell_type": "code",
   "execution_count": null,
   "metadata": {},
   "outputs": [],
   "source": [
    "'hi' in s_array"
   ]
  },
  {
   "cell_type": "code",
   "execution_count": null,
   "metadata": {},
   "outputs": [],
   "source": [
    "s_array[1]"
   ]
  },
  {
   "cell_type": "code",
   "execution_count": null,
   "metadata": {},
   "outputs": [],
   "source": [
    "s_array[32]"
   ]
  },
  {
   "cell_type": "code",
   "execution_count": null,
   "metadata": {},
   "outputs": [],
   "source": [
    "s_array[21] = 0"
   ]
  },
  {
   "cell_type": "code",
   "execution_count": null,
   "metadata": {},
   "outputs": [],
   "source": [
    "del s_array[1]"
   ]
  },
  {
   "cell_type": "markdown",
   "metadata": {},
   "source": [
    "#### Iterating Over Sequence \n",
    "\n",
    "Python requires very little to get iteration working. If ``__getitem__(i)`` is present then the interpreter will try to index the object sequentially until ``IndexError`` is rasied. \n"
   ]
  },
  {
   "cell_type": "code",
   "execution_count": null,
   "metadata": {},
   "outputs": [],
   "source": [
    "s_array = StaticArray([1,'hi',True])"
   ]
  },
  {
   "cell_type": "code",
   "execution_count": null,
   "metadata": {},
   "outputs": [],
   "source": [
    "# We can do this because we have defined __getitem__\n",
    "for x in s_array:\n",
    "    print(x)"
   ]
  },
  {
   "cell_type": "markdown",
   "metadata": {},
   "source": [
    " However, sequences are not the only things that are iterable. We've seen many examples of things that are iterable: \n",
    " \n",
    " - Lists, sets, dictionaries \n",
    " - ``dict.keys()``, ``dict.values()``\n",
    " - ``map(...)``, ``filter(...)`` \n",
    " - Generators \n",
    "\n",
    "**What makes an object iterable**? \n",
    "\n",
    "- Any object that implements ``__iter__()`` is iterable"
   ]
  },
  {
   "cell_type": "code",
   "execution_count": null,
   "metadata": {},
   "outputs": [],
   "source": [
    "# the following code: \n",
    "for item in obj: \n",
    "    print(item)\n",
    "    \n",
    "### is equivalent to \n",
    "it = iter(obj)            # obj.__iter__()\n",
    "while True:\n",
    "    try:\n",
    "        item = next(it)   # it.__next__()\n",
    "        print(item)\n",
    "    except StopIteration:\n",
    "        del it\n",
    "        break"
   ]
  },
  {
   "cell_type": "markdown",
   "metadata": {},
   "source": [
    "#### Iterable vs. Iterator (Review) \n",
    "\n",
    "There is a difference between an *iterable* and *iterator*:\n",
    "\n",
    "- Instances of a class can be ``iterable`` objects if the class defines an ``__iter__`` method, which returns an iterator. \n",
    "\n",
    "- A class can be an iterator if it: \n",
    "    - Defines a ``__next__()`` method, which returns successive values in the iterable \n",
    "        - Raises a ``StopIteration`` when no values remain.  \n",
    "    - Defines a ``__iter__()`` method, which returns self. \n",
    "\n",
    "For example, a generator is both an iterator and interable but list is only an iterable: "
   ]
  },
  {
   "cell_type": "code",
   "execution_count": null,
   "metadata": {},
   "outputs": [],
   "source": [
    "from collections.abc import Iterable, Iterator"
   ]
  },
  {
   "cell_type": "code",
   "execution_count": null,
   "metadata": {},
   "outputs": [],
   "source": [
    "g = (2**x for x in range(10))\n",
    "print(isinstance(g, Iterable))\n",
    "print(isinstance(g, Iterator))"
   ]
  },
  {
   "cell_type": "code",
   "execution_count": null,
   "metadata": {},
   "outputs": [],
   "source": [
    "l = [1,2,3]\n",
    "print(isinstance(l,Iterable))\n",
    "print(isinstance(l,Iterator))"
   ]
  },
  {
   "cell_type": "markdown",
   "metadata": {},
   "source": [
    "#### Iteration Advice \n",
    "\n",
    "1. Do not implement the ``__next__()`` in a class that should only be an iterable. \n",
    "2. In order to support multiple traversals, the iterator must be a seperate object. \n",
    "3. A common design pattern is to delegate iteration to a seperate class that is iterable.\n",
    "\n",
    "For example, defining an ``StaticArrayIterator`` class that is in charge iterating through the objects within an ``StaticArray`` object. "
   ]
  },
  {
   "cell_type": "code",
   "execution_count": null,
   "metadata": {},
   "outputs": [],
   "source": [
    "class StaticArrayIterator:\n",
    "    def __init__(self,values):\n",
    "        self.values = values \n",
    "        self.position = 0 \n",
    "    def __iter__(self):\n",
    "        return self\n",
    "    def __next__(self):\n",
    "        if self.position >= len(self.values):\n",
    "            raise StopIteration\n",
    "        item = self.values[self.position]\n",
    "        self.position += 1\n",
    "        return item"
   ]
  },
  {
   "cell_type": "markdown",
   "metadata": {},
   "source": [
    "Now we can make the ``StaticArray`` delegate the iteration to the ``StaticArrayIterator``"
   ]
  },
  {
   "cell_type": "code",
   "execution_count": null,
   "metadata": {},
   "outputs": [],
   "source": [
    "class StaticArray:\n",
    "\n",
    "    def __init__(self, initVal = None, capacity = 5):\n",
    "        if isinstance(initVal, Iterable):\n",
    "            self.items = [None] * capacity\n",
    "            for idx,item in enumerate(initVal): \n",
    "                if idx >= capacity:\n",
    "                    break \n",
    "                else:\n",
    "                    self.items[idx] = item \n",
    "            self.capacity = capacity\n",
    "        else: \n",
    "            self.items = [initVal] * capacity  \n",
    "            self.capacity = capacity\n",
    "\n",
    "    def __repr__(self):\n",
    "        return f'(cap = {self.capacity}, items = {self.items})'\n",
    "    def __str__(self):\n",
    "        return f'{self.items}' \n",
    "    def __len__(self):\n",
    "        return self.capacity \n",
    "    def __contains__(self, x):\n",
    "        return x in self.items \n",
    "    def __getitem__(self, i):\n",
    "        if i >= self.capacity or i < -self.capacity:\n",
    "            raise IndexError # an Invalid index\n",
    "        return self.items[i]\n",
    "    def __setitem__(self, i, x):\n",
    "        if i >= self.capacity or i < -self.capacity:\n",
    "            raise IndexError # an Invalid index\n",
    "        self.items[i] = x\n",
    "    def __delitem__(self,i):\n",
    "        raise NotImplementedError(\"Cannot delete from a static array\")\n",
    "        \n",
    "    ###########################################\n",
    "    ########### Iterable definition ###########\n",
    "    def __iter__(self):\n",
    "        return StaticArrayIterator(self.items[:])"
   ]
  },
  {
   "cell_type": "markdown",
   "metadata": {},
   "source": [
    "We can use an iteration context (e.g., ``for``) to iterate through the components of the ``StaticArray``:"
   ]
  },
  {
   "cell_type": "code",
   "execution_count": null,
   "metadata": {},
   "outputs": [],
   "source": [
    "s_array = StaticArray(['a','b','c'],10)"
   ]
  },
  {
   "cell_type": "code",
   "execution_count": null,
   "metadata": {},
   "outputs": [],
   "source": [
    "for x in s_array:\n",
    "    print(x)"
   ]
  },
  {
   "cell_type": "markdown",
   "metadata": {},
   "source": [
    "#### Emulating numeric operators \n",
    "\n",
    "\n",
    "| You Write...   | Python calls...          |\n",
    "| ---            | ---                      |\n",
    "| ``x + y``   | ``x.__add__(y)``        |\n",
    "| ``x - y``   | ``x.__sub__(y)``  |\n",
    "| ``x * y``     | ``x.__mul__(y)``   |\n",
    "| ``x / y`` | ``x.__truediv__(y)`` |\n",
    "| ``x // y`` | ``x.__floordiv__(y)``   |\n",
    "| ``x ** y`` | ``x.__pow__(y)``   |\n",
    "| ``x @ y`` | ``x.__matmul__(y)``   |"
   ]
  },
  {
   "cell_type": "markdown",
   "metadata": {},
   "source": [
    "Binary operators often require more than one special method:"
   ]
  },
  {
   "cell_type": "code",
   "execution_count": null,
   "metadata": {},
   "outputs": [],
   "source": [
    "class StaticArray:\n",
    "\n",
    "    def __init__(self, initVal = None, capacity = 5):\n",
    "        if isinstance(initVal, Iterable):\n",
    "            self.items = [None] * capacity\n",
    "            for idx,item in enumerate(initVal): \n",
    "                if idx >= capacity:\n",
    "                    break \n",
    "                else:\n",
    "                    self.items[idx] = item \n",
    "            self.capacity = capacity\n",
    "        else: \n",
    "            self.items = [initVal] * capacity  \n",
    "            self.capacity = capacity\n",
    "\n",
    "    def __repr__(self):\n",
    "        return f'(cap = {self.capacity}, items = {self.items})'\n",
    "    def __str__(self):\n",
    "        return f'{self.items}' \n",
    "    def __len__(self):\n",
    "        return self.capacity \n",
    "    def __contains__(self, x):\n",
    "        return x in self.items \n",
    "    def __getitem__(self, i):\n",
    "        if i >= self.capacity or i < -self.capacity:\n",
    "            raise IndexError # an Invalid index\n",
    "        return self.items[i]\n",
    "    def __setitem__(self, i, x):\n",
    "        if i >= self.capacity or i < -self.capacity:\n",
    "            raise IndexError # an Invalid index\n",
    "        self.items[i] = x\n",
    "    def __delitem__(self,i):\n",
    "        raise NotImplementedError(\"Cannot delete from a static array\")\n",
    "    def __iter__(self):\n",
    "        return StaticArrayIterator(self.items[:])\n",
    "    \n",
    "    ##################################\n",
    "    ###### mul numeric operator ######\n",
    "    def __mul__(self, other):\n",
    "        t = self.items * other \n",
    "        return StaticArray(t, len(t))"
   ]
  },
  {
   "cell_type": "code",
   "execution_count": null,
   "metadata": {},
   "outputs": [],
   "source": [
    "s_array = StaticArray([1,2,3])"
   ]
  },
  {
   "cell_type": "code",
   "execution_count": null,
   "metadata": {},
   "outputs": [],
   "source": [
    "s_array * 2"
   ]
  },
  {
   "cell_type": "code",
   "execution_count": null,
   "metadata": {},
   "outputs": [],
   "source": [
    "2 * s_array"
   ]
  },
  {
   "cell_type": "markdown",
   "metadata": {},
   "source": [
    "#### Operand Order \n",
    "\n",
    "  ![alt text](../images/reverse_operators.png )"
   ]
  },
  {
   "cell_type": "code",
   "execution_count": null,
   "metadata": {},
   "outputs": [],
   "source": [
    "class StaticArray:\n",
    "\n",
    "    def __init__(self, initVal = None, capacity = 5):\n",
    "        if isinstance(initVal, Iterable):\n",
    "            self.items = [None] * capacity\n",
    "            for idx,item in enumerate(initVal): \n",
    "                if idx >= capacity:\n",
    "                    break \n",
    "                else:\n",
    "                    self.items[idx] = item \n",
    "            self.capacity = capacity\n",
    "        else: \n",
    "            self.items = [initVal] * capacity  \n",
    "            self.capacity = capacity\n",
    "\n",
    "    def __repr__(self):\n",
    "        return f'(cap = {self.capacity}, items = {self.items})'\n",
    "    def __str__(self):\n",
    "        return f'{self.items}' \n",
    "    def __len__(self):\n",
    "        return self.capacity \n",
    "    def __contains__(self, x):\n",
    "        return x in self.items \n",
    "    def __getitem__(self, i):\n",
    "        if i >= self.capacity or i < -self.capacity:\n",
    "            raise IndexError # an Invalid index\n",
    "        return self.items[i]\n",
    "    def __setitem__(self, i, x):\n",
    "        if i >= self.capacity or i < -self.capacity:\n",
    "            raise IndexError # an Invalid index\n",
    "        self.items[i] = x\n",
    "    def __delitem__(self,i):\n",
    "        raise NotImplementedError(\"Cannot delete from a static array\")\n",
    "    def __iter__(self):\n",
    "        return StaticArrayIterator(self.items[:])\n",
    "    def __mul__(self, other):\n",
    "        t = self.items * other \n",
    "        return StaticArray(t, len(t))\n",
    "    \n",
    "    ###############################\n",
    "    ##### Augmented add method ####\n",
    "    __rmul__ = __mul__"
   ]
  },
  {
   "cell_type": "code",
   "execution_count": null,
   "metadata": {},
   "outputs": [],
   "source": [
    "s_array = StaticArray([1,2,3])"
   ]
  },
  {
   "cell_type": "code",
   "execution_count": null,
   "metadata": {},
   "outputs": [],
   "source": [
    "s_array * 2 # Calls  the __mul__ method"
   ]
  },
  {
   "cell_type": "code",
   "execution_count": null,
   "metadata": {},
   "outputs": [],
   "source": [
    "2 * s_array # Calls the __rmul___ method"
   ]
  },
  {
   "cell_type": "code",
   "execution_count": null,
   "metadata": {},
   "outputs": [],
   "source": [
    "s_array"
   ]
  },
  {
   "cell_type": "markdown",
   "metadata": {},
   "source": [
    "#### Augmented (in-place) assignment operators \n",
    "\n",
    "\n",
    "| You Write...   | Python calls...          |\n",
    "| ---            | ---                      |\n",
    "| ``x += y``   | ``x.__iadd__(y)``        |\n",
    "| ``x -= y``   | ``x.__isub__(y)``  |\n",
    "| ``x *= y``     | ``x.__imul__(y)``   |\n",
    "| ``x /= y`` | ``x.__itruediv__(y)`` |\n",
    "| ``x //= y`` | ``x.__ifloordiv__(y)``   |\n",
    "| ``x **= y`` | ``x.__ipow__(y)``   |\n",
    "| ``x @= y`` | ``x.__imatmul__(y)``   |"
   ]
  },
  {
   "cell_type": "code",
   "execution_count": null,
   "metadata": {},
   "outputs": [],
   "source": [
    "class StaticArray:\n",
    "\n",
    "    def __init__(self, initVal = None, capacity = 5):\n",
    "        if isinstance(initVal, Iterable):\n",
    "            self.items = [None] * capacity\n",
    "            for idx,item in enumerate(initVal): \n",
    "                if idx >= capacity:\n",
    "                    break \n",
    "                else:\n",
    "                    self.items[idx] = item \n",
    "            self.capacity = capacity\n",
    "        else: \n",
    "            self.items = [initVal] * capacity  \n",
    "            self.capacity = capacity\n",
    "\n",
    "    def __repr__(self):\n",
    "        return f'(cap = {self.capacity}, items = {self.items})'\n",
    "    def __str__(self):\n",
    "        return f'{self.items}' \n",
    "    def __len__(self):\n",
    "        return self.capacity \n",
    "    def __contains__(self, x):\n",
    "        return x in self.items \n",
    "    def __getitem__(self, i):\n",
    "        if i >= self.capacity or i < -self.capacity:\n",
    "            raise IndexError # an Invalid index\n",
    "        return self.items[i]\n",
    "    def __setitem__(self, i, x):\n",
    "        if i >= self.capacity or i < -self.capacity:\n",
    "            raise IndexError # an Invalid index\n",
    "        self.items[i] = x\n",
    "    def __delitem__(self,i):\n",
    "        raise NotImplementedError(\"Cannot delete from a static array\")\n",
    "    def __iter__(self):\n",
    "        return StaticArrayIterator(self.items[:])\n",
    "    def __mul__(self, other):\n",
    "        t = self.items * other \n",
    "        return StaticArray(t, len(t))\n",
    "    def __rmul__(self, other):\n",
    "        return self.__mul__(other)\n",
    "    \n",
    "    #############################\n",
    "    ##### Augmented methods ###\n",
    "    def __imul__(self, other):\n",
    "        return self.__mul__(other)"
   ]
  },
  {
   "cell_type": "code",
   "execution_count": null,
   "metadata": {},
   "outputs": [],
   "source": [
    "s_array = StaticArray([1,2,3])"
   ]
  },
  {
   "cell_type": "code",
   "execution_count": null,
   "metadata": {},
   "outputs": [],
   "source": [
    "s_array"
   ]
  },
  {
   "cell_type": "code",
   "execution_count": null,
   "metadata": {},
   "outputs": [],
   "source": [
    "s_array *= 2"
   ]
  },
  {
   "cell_type": "code",
   "execution_count": null,
   "metadata": {},
   "outputs": [],
   "source": [
    "s_array"
   ]
  },
  {
   "cell_type": "markdown",
   "metadata": {},
   "source": [
    "#### Rich Comparison\n",
    "\n",
    "- Python allows you to also overload comparison operators:\n",
    "   - ``==``, ``!=``, ``>``, ``>=``, ``<``, and ``<=``\n",
    "   \n",
    "  \n",
    "  | You Write...   | Python calls...          |\n",
    "| ---            | ---                      |\n",
    "| ``x == y``   | ``x.__eq__(y)``        |\n",
    "| ``x != y``   | ``x.__ne__(y)``  |\n",
    "| ``x < y``     | ``x.__lt__(y)``   |\n",
    "| ``x > y`` | ``x.__gt__(y)`` |\n",
    "| ``x <= y`` | ``x.__le__(y)``   |\n",
    "| ``x >= y`` | ``x.__ge__(y)``   |\n"
   ]
  },
  {
   "cell_type": "markdown",
   "metadata": {},
   "source": [
    "#### Equality fallback \n",
    "\n",
    "**What happends when x == y is encountered?**\n",
    "\n",
    "1. Try ``x.__eq__(y)``\n",
    "2. If Step #1 fails then Try ``y.__eq__(x)``\n",
    "3. If ``__eq__()`` is not defined for either, \n",
    "    ``return id(x) == id(y)```"
   ]
  },
  {
   "cell_type": "code",
   "execution_count": null,
   "metadata": {},
   "outputs": [],
   "source": [
    "class StaticArray:\n",
    "\n",
    "    def __init__(self, initVal = None, capacity = 5):\n",
    "        if isinstance(initVal, Iterable):\n",
    "            self.items = [None] * capacity\n",
    "            for idx,item in enumerate(initVal): \n",
    "                if idx >= capacity:\n",
    "                    break \n",
    "                else:\n",
    "                    self.items[idx] = item \n",
    "            self.capacity = capacity\n",
    "        else: \n",
    "            self.items = [initVal] * capacity  \n",
    "            self.capacity = capacity\n",
    "\n",
    "    def __repr__(self):\n",
    "        return f'(cap = {self.capacity}, items = {self.items})'\n",
    "    def __str__(self):\n",
    "        return f'{self.items}' \n",
    "    def __len__(self):\n",
    "        return self.capacity \n",
    "    def __contains__(self, x):\n",
    "        return x in self.items \n",
    "    def __getitem__(self, i):\n",
    "        if i >= self.capacity or i < -self.capacity:\n",
    "            raise IndexError # an Invalid index\n",
    "        return self.items[i]\n",
    "    def __setitem__(self, i, x):\n",
    "        if i >= self.capacity or i < -self.capacity:\n",
    "            raise IndexError # an Invalid index\n",
    "        self.items[i] = x\n",
    "    def __delitem__(self,i):\n",
    "        raise NotImplementedError(\"Cannot delete from a static array\")\n",
    "    def __iter__(self):\n",
    "        return StaticArrayIterator(self.items[:])\n",
    "    def __mul__(self, other):\n",
    "        t = self.items * other \n",
    "        return StaticArray(t, len(t))\n",
    "    def __rmul__(self, other):\n",
    "        return self.__mul__(other)\n",
    "    def __imul__(self, other):\n",
    "        return self.__mul__(other)\n",
    "    \n",
    "    #############################\n",
    "    ### eq method implementation ###\n",
    "    def __eq__(self, other):\n",
    "        if isinstance(other, StaticArray):\n",
    "            return self.capacity == other.capacity and self.items == other.items \n",
    "        return False"
   ]
  },
  {
   "cell_type": "code",
   "execution_count": null,
   "metadata": {},
   "outputs": [],
   "source": [
    "s_array = StaticArray([1,2,3])"
   ]
  },
  {
   "cell_type": "code",
   "execution_count": null,
   "metadata": {},
   "outputs": [],
   "source": [
    "s_array2 = StaticArray([1,2,3])"
   ]
  },
  {
   "cell_type": "code",
   "execution_count": null,
   "metadata": {},
   "outputs": [],
   "source": [
    "s_array3 = StaticArray()"
   ]
  },
  {
   "cell_type": "code",
   "execution_count": null,
   "metadata": {},
   "outputs": [],
   "source": [
    "s_array == s_array2"
   ]
  },
  {
   "cell_type": "code",
   "execution_count": null,
   "metadata": {},
   "outputs": [],
   "source": [
    "s_array == s_array3"
   ]
  },
  {
   "cell_type": "markdown",
   "metadata": {},
   "source": [
    "#### Callable Objects\n",
    "\n",
    "Instances of classes can be made callable themselves. For example, a class representing a sum of multiple functions. \n",
    "\n",
    "You just need to define ``__call__(...)`` method. This can take in N arguments that you can use in its definition. "
   ]
  },
  {
   "cell_type": "code",
   "execution_count": null,
   "metadata": {},
   "outputs": [],
   "source": [
    "import math\n",
    "\n",
    "class SumFuncs:\n",
    "    def __init__(self, funcs):\n",
    "        self.funcs = funcs\n",
    "    def __call__(self, x):\n",
    "        return sum(f(x) for f in self.funcs)"
   ]
  },
  {
   "cell_type": "code",
   "execution_count": null,
   "metadata": {},
   "outputs": [],
   "source": [
    "f = SumFuncs((math.floor, math.ceil)) # math.floor(x) + math.ceil(x)"
   ]
  },
  {
   "cell_type": "code",
   "execution_count": null,
   "metadata": {},
   "outputs": [],
   "source": [
    "f(3.45)"
   ]
  },
  {
   "cell_type": "code",
   "execution_count": null,
   "metadata": {},
   "outputs": [],
   "source": [
    "f(3)"
   ]
  },
  {
   "cell_type": "code",
   "execution_count": null,
   "metadata": {},
   "outputs": [],
   "source": []
  }
 ],
 "metadata": {
  "kernelspec": {
   "display_name": "Python 3",
   "language": "python",
   "name": "python3"
  },
  "language_info": {
   "codemirror_mode": {
    "name": "ipython",
    "version": 3.0
   },
   "file_extension": ".py",
   "mimetype": "text/x-python",
   "name": "python",
   "nbconvert_exporter": "python",
   "pygments_lexer": "ipython3",
   "version": "3.9.0"
  }
 },
 "nbformat": 4,
 "nbformat_minor": 0
}
