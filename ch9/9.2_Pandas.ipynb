{
 "cells": [
  {
   "cell_type": "markdown",
   "metadata": {},
   "source": [
    "## Topics\n",
    "\n",
    "We'll wrap up our discussion on Scientific Python by discussing `pandas`."
   ]
  },
  {
   "cell_type": "markdown",
   "metadata": {},
   "source": [
    "### Pandas\n",
    "\n",
    "Pandas builds on the structured data tools available in NumPy by giving us a data structure called a `DataFrame`, which acts as a multidimensional array with row and column labels, heterogeneous types, and/or missing data.\n",
    "\n",
    "\"As well as offering a convenient storage interface for labeled data, Pandas implements a number of powerful data operations familiar to users of both database frameworks and spreadsheet programs.\" - Python Data Science Handbook, Jake VanderPlas"
   ]
  },
  {
   "cell_type": "code",
   "execution_count": null,
   "metadata": {},
   "outputs": [],
   "source": [
    "import pandas as pd"
   ]
  },
  {
   "cell_type": "markdown",
   "metadata": {},
   "source": [
    "### Pandas: Series Object\n",
    "A Series is a one-dimensional array of indexed data. It wraps:\n",
    "\n",
    "- A sequence of values (accessible via values attribute).\n",
    "- A sequence of indices (accessible via index attribute)."
   ]
  },
  {
   "cell_type": "code",
   "execution_count": null,
   "metadata": {},
   "outputs": [],
   "source": [
    "data = pd.Series(range(10,20))\n",
    "print(data)"
   ]
  },
  {
   "cell_type": "code",
   "execution_count": null,
   "metadata": {},
   "outputs": [],
   "source": [
    "print(data.values)\n",
    "print(data.index)\n",
    "print(data.dtype)"
   ]
  },
  {
   "cell_type": "markdown",
   "metadata": {},
   "source": [
    "Data is accessible by offset (index) in square brackets."
   ]
  },
  {
   "cell_type": "code",
   "execution_count": null,
   "metadata": {},
   "outputs": [],
   "source": [
    "print(data[0])\n",
    "print(data[2:5])"
   ]
  },
  {
   "cell_type": "markdown",
   "metadata": {},
   "source": [
    "We may consider a Pandas Series object as a generalized NumPy array. Whereas a NumPy array has an implicit integer index, a Pandas Series has an explicit index that may consist of values of any type."
   ]
  },
  {
   "cell_type": "code",
   "execution_count": null,
   "metadata": {},
   "outputs": [],
   "source": [
    "data = pd.Series(range(10,20), index=['ten', 'eleven', '12', 13, 14, 15, 16, 17, 18, 19])\n",
    "print(data['ten'])\n",
    "print(data[19])\n",
    "print(data.index)"
   ]
  },
  {
   "cell_type": "markdown",
   "metadata": {},
   "source": [
    "There exists no requirement that an index be sequential."
   ]
  },
  {
   "cell_type": "code",
   "execution_count": null,
   "metadata": {},
   "outputs": [],
   "source": [
    "data = pd.Series(range(10,20), index=[20, 19, 18, 15, 14, 'six', 'eight', 'seven', 9, 10])\n",
    "print(data['six'])\n",
    "print(data['eight'])\n",
    "print(data.index)"
   ]
  },
  {
   "cell_type": "markdown",
   "metadata": {},
   "source": [
    "We may also consider a Pandas `Series` a specialized dictionary. Whereas a Python `dict` maps a set of arbitrary keys to a set of arbitrary values, a Series maps a set of typed keys to a set of typed values.\n",
    "\n",
    "\"This typing is important: just as the type-specific compiled code behind a NumPy array makes it more efficient than a Python list for certain operations, the type of information of a Pandas `Series` makes it more efficient than a Python dictionary for certain operations.\""
   ]
  },
  {
   "cell_type": "code",
   "execution_count": null,
   "metadata": {},
   "outputs": [],
   "source": [
    "star_trek_captains = {\n",
    "    'Jean-luc Picard': 'STNG',\n",
    "    'James T. Kirk': 'TOG',\n",
    "    'Saru': 'Discovery',\n",
    "    'Benjamin Sisko': 'DS9',\n",
    "    'Kathryn Janeway': 'Voyager'\n",
    "}\n",
    "star_trek_captains_series = pd.Series(star_trek_captains)\n",
    "print(star_trek_captains_series)\n",
    "print(star_trek_captains_series['Kathryn Janeway'])"
   ]
  },
  {
   "cell_type": "markdown",
   "metadata": {},
   "source": [
    "The Series supports array-style operations, like slicing:"
   ]
  },
  {
   "cell_type": "code",
   "execution_count": null,
   "metadata": {},
   "outputs": [],
   "source": [
    "star_trek_captains_series['Saru': 'Kathryn Janeway']"
   ]
  },
  {
   "cell_type": "markdown",
   "metadata": {},
   "source": [
    "Pandas Series can be created from:\n",
    "\n",
    "- Lists, NumPy arrays: index defaults to sequence of integers. \n",
    "- Dictionaries: index defaults to sorted keys of the dictionary. \n",
    "- Scalars: value repeated to fill given index."
   ]
  },
  {
   "cell_type": "code",
   "execution_count": null,
   "metadata": {},
   "outputs": [],
   "source": [
    "pd.Series(42, index=[1, 2, 3])"
   ]
  },
  {
   "cell_type": "markdown",
   "metadata": {},
   "source": [
    "\"If a Series is an analog of a one-dimensional array with flexible indices, a DataFrame is an analog of a two-dimensional array with both flexible row indices and flexible column names.\"\n",
    "\n",
    "\"Just as you might think of a two-dimensional array as an ordered sequence of aligned one-dimensional columns, you can think of a DataFrame as a sequence of aligned Series objects. Here, by 'aligned' we mean that they share the same index.\""
   ]
  },
  {
   "cell_type": "markdown",
   "metadata": {},
   "source": [
    "### Pandas `DataFrame` Object"
   ]
  },
  {
   "cell_type": "code",
   "execution_count": null,
   "metadata": {},
   "outputs": [],
   "source": [
    "star_trek_captains = {\n",
    "    'Jean-luc Picard': 'STNG',\n",
    "    'James T. Kirk': 'TOG',\n",
    "    'Saru': 'Discovery',\n",
    "    'Benjamin Sisko': 'DS9',\n",
    "    'Kathryn Janeway': 'Voyager'\n",
    "}\n",
    "\n",
    "star_trek_captain_ranking = {\n",
    "    'Jean-luc Picard': 1,\n",
    "    'James T. Kirk': 5,\n",
    "    'Saru': 4,\n",
    "    'Benjamin Sisko': 2,\n",
    "    'Kathryn Janeway': 3\n",
    "}\n",
    "\n",
    "star_trek_captain_series = pd.Series(star_trek_captains)\n",
    "star_trek_captain_ranking_series = pd.Series(star_trek_captain_ranking)\n",
    "\n",
    "star_trek_df = pd.DataFrame({\n",
    "    'ranking': star_trek_captain_ranking_series,\n",
    "    'season': star_trek_captain_series\n",
    "})\n",
    "\n",
    "star_trek_df"
   ]
  },
  {
   "cell_type": "markdown",
   "metadata": {},
   "source": [
    "A `DataFrame` has attributes:\n",
    "\n",
    "- index: An Index object. The values are the row/index labels.\n",
    "- columns: An index object. The values are the column labels."
   ]
  },
  {
   "cell_type": "code",
   "execution_count": null,
   "metadata": {},
   "outputs": [],
   "source": [
    "print(star_trek_df.index)\n",
    "print(star_trek_df.columns)"
   ]
  },
  {
   "cell_type": "markdown",
   "metadata": {},
   "source": [
    "Another way to frame our understanding of the `DataFrame` object is to consider it a specialized dictionary. Whereas a dictionary maps arbitrary keys to arbitrary values, a `DataFrame` maps a column name to a `Series` of column data."
   ]
  },
  {
   "cell_type": "code",
   "execution_count": null,
   "metadata": {},
   "outputs": [],
   "source": [
    "print('===== DataFrame =====')\n",
    "print(star_trek_df)           # DataFrame\n",
    "print('===== Season =====')\n",
    "print(star_trek_df.season)\n",
    "print('===== Ranking =====')\n",
    "print(star_trek_df['ranking'])"
   ]
  },
  {
   "cell_type": "markdown",
   "metadata": {},
   "source": [
    "#### Data Indexing and Selection\n",
    "\n",
    "Because the `__getitem__` behavior of a `DataFrame` returns a column, our conceptualization of the `DataFrame` as a two-dimensional ndarray may be misleading. For this reason, the specialized dictionary conceptualization is preferable."
   ]
  },
  {
   "cell_type": "code",
   "execution_count": null,
   "metadata": {},
   "outputs": [],
   "source": [
    "star_trek_captains = {\n",
    "    'Jean-luc Picard': 'STNG',\n",
    "    'James T. Kirk': 'TOG',\n",
    "    'Saru': 'Discovery',\n",
    "    'Benjamin Sisko': 'DS9',\n",
    "    'Kathryn Janeway': 'Voyager'\n",
    "}\n",
    "\n",
    "star_trek_captain_series = pd.Series(star_trek_captains)\n",
    "\n",
    "# Access an element by index like a dictionary\n",
    "print(star_trek_captain_series['Saru'])\n",
    "\n",
    "# Access element by implicit integer index\n",
    "print(star_trek_captain_series[2])"
   ]
  },
  {
   "cell_type": "markdown",
   "metadata": {},
   "source": [
    "#### Data Indexing and Selection: Series"
   ]
  },
  {
   "cell_type": "code",
   "execution_count": null,
   "metadata": {},
   "outputs": [],
   "source": [
    "# Extend series\n",
    "print('===== Extend series =====')\n",
    "star_trek_captain_series['John Archer'] = 'Enterprise'\n",
    "print(star_trek_captain_series)\n",
    "# Slicing by explicit index\n",
    "print('===== Slicing series =====')\n",
    "print(star_trek_captain_series['Jean-luc Picard':'Saru'])\n",
    "print(star_trek_captain_series[0:3])\n",
    "# Masking \n",
    "print('===== Masking series =====')\n",
    "print(star_trek_captain_series[(star_trek_captain_series != 'TOG')])\n",
    "# Fancy Indexing!\n",
    "print('===== Fancying indexing in series =====')\n",
    "star_trek_captain_series[['Jean-luc Picard', 'Benjamin Sisko']]"
   ]
  },
  {
   "cell_type": "markdown",
   "metadata": {},
   "source": [
    "#### Data Indexers: Series"
   ]
  },
  {
   "cell_type": "code",
   "execution_count": null,
   "metadata": {},
   "outputs": [],
   "source": [
    "print('===== Always reference Explicit Index =====')\n",
    "print(star_trek_captain_series['Saru'])\n",
    "print(star_trek_captain_series.loc['Saru'])\n",
    "print(star_trek_captain_series.loc['Saru': 'Kathryn Janeway'])\n",
    "print('===== Always reference Implicit Index =====')\n",
    "print(star_trek_captain_series.iloc[1])\n",
    "print(star_trek_captain_series.iloc[1:3])"
   ]
  },
  {
   "cell_type": "markdown",
   "metadata": {},
   "source": [
    "#### Data Selection: `DataFrame`"
   ]
  },
  {
   "cell_type": "code",
   "execution_count": null,
   "metadata": {},
   "outputs": [],
   "source": [
    "star_trek_df = pd.DataFrame({\n",
    "    'season': \n",
    "    ['STNG',\n",
    "        'TOG',\n",
    "        'Discovery',\n",
    "        'DS9',\n",
    "        'Voyager'\n",
    "    ],\n",
    "    'ranking': [1,5,4,2,3],\n",
    "    'name': ['Jean-luc Picard','James T. Kirk', 'Saru','Benjamin Sisko','Kathryn Janeway']\n",
    "}, index=['Jean-luc Picard','James T. Kirk', 'Saru','Benjamin Sisko','Kathryn Janeway'])\n",
    "\n",
    "star_trek_df"
   ]
  },
  {
   "cell_type": "code",
   "execution_count": null,
   "metadata": {},
   "outputs": [],
   "source": [
    "print(star_trek_df.columns)\n",
    "print(star_trek_df['season'])   # dict style index\n",
    "print(star_trek_df.season)      # attribute style access with column names that are strings\n",
    "print(star_trek_df['season'] is star_trek_df.season)"
   ]
  },
  {
   "cell_type": "code",
   "execution_count": null,
   "metadata": {},
   "outputs": [],
   "source": [
    "# Add a new column using dict style assignment\n",
    "star_trek_df['Full Position'] = \"Captain \" + star_trek_df[\"name\"] + \" is ranked \" + star_trek_df.ranking.astype(str) + \".\"\n",
    "print(star_trek_df['Full Position'])"
   ]
  },
  {
   "cell_type": "code",
   "execution_count": null,
   "metadata": {},
   "outputs": [],
   "source": [
    "print(star_trek_df)\n",
    "# Transpose\n",
    "star_trek_df.T"
   ]
  },
  {
   "cell_type": "code",
   "execution_count": null,
   "metadata": {},
   "outputs": [],
   "source": [
    "# Values as 2D Array\n",
    "star_trek_df.values"
   ]
  },
  {
   "cell_type": "markdown",
   "metadata": {},
   "source": [
    "#### Data Indexing: `DataFrame`s"
   ]
  },
  {
   "cell_type": "code",
   "execution_count": null,
   "metadata": {},
   "outputs": [],
   "source": [
    "star_trek_df.loc['Saru']"
   ]
  },
  {
   "cell_type": "code",
   "execution_count": null,
   "metadata": {},
   "outputs": [],
   "source": [
    "star_trek_df.loc['Saru', 'Full Position']"
   ]
  },
  {
   "cell_type": "code",
   "execution_count": null,
   "metadata": {},
   "outputs": [],
   "source": [
    "star_trek_df.iloc[2,3]"
   ]
  },
  {
   "cell_type": "code",
   "execution_count": null,
   "metadata": {},
   "outputs": [],
   "source": [
    "star_trek_df.loc['Saru':'Kathryn Janeway', 'Full Position']"
   ]
  },
  {
   "cell_type": "code",
   "execution_count": null,
   "metadata": {},
   "outputs": [],
   "source": [
    "star_trek_df.loc['Saru':'Kathryn Janeway']"
   ]
  },
  {
   "cell_type": "code",
   "execution_count": null,
   "metadata": {},
   "outputs": [],
   "source": [
    "star_trek_df.iloc[2:5, 3]"
   ]
  },
  {
   "cell_type": "code",
   "execution_count": null,
   "metadata": {},
   "outputs": [],
   "source": [
    "star_trek_df.iloc[2:5, 1:3]"
   ]
  },
  {
   "cell_type": "code",
   "execution_count": null,
   "metadata": {},
   "outputs": [],
   "source": [
    "# Masking\n",
    "star_trek_df[star_trek_df['ranking'] < 4]"
   ]
  },
  {
   "cell_type": "code",
   "execution_count": null,
   "metadata": {},
   "outputs": [],
   "source": [
    "# Masking\n",
    "star_trek_df[(star_trek_df['ranking'] < 4) & (star_trek_df.name.str.contains('-'))]"
   ]
  },
  {
   "cell_type": "markdown",
   "metadata": {},
   "source": [
    "#### `DataFrame` Operations\n",
    "\n",
    "Pandas `DataFrame` objects inherit efficient element-wise operations from NumPy. Additionally, `DataFrame` objects \"include a couple of useful twists\":\n",
    "\n",
    "For unary operations, ... ufuncs will *preserve index and column labels* in the output."
   ]
  },
  {
   "cell_type": "code",
   "execution_count": null,
   "metadata": {},
   "outputs": [],
   "source": [
    "import numpy as np \n",
    "df = pd.DataFrame(np.random.randint(0, 10, (3,4)), columns=['A','B','C','D'])\n",
    "df"
   ]
  },
  {
   "cell_type": "code",
   "execution_count": null,
   "metadata": {},
   "outputs": [],
   "source": [
    "np.sin(df * np.pi / 4)"
   ]
  },
  {
   "cell_type": "markdown",
   "metadata": {},
   "source": [
    "#### Creating a DataFrame from File\n",
    "\n",
    "```\n",
    "df_from_csv = pd.read_csv('/path/to/file.csv')\n",
    "df_from_web_csv = pd.read_csv('https://data.cityofchicago.org/api/views/x8fc-8rcq/rows.csv?accessType=DOWNLOAD')\n",
    "df_from_json_csv = pd.read_json('/path/to/file.json')\n",
    "df_from_web_json_csv = pd.read_json('https://website.com/resource')\n",
    "```"
   ]
  },
  {
   "cell_type": "code",
   "execution_count": null,
   "metadata": {},
   "outputs": [],
   "source": [
    "chicago_libraries_df = pd.read_csv('https://data.cityofchicago.org/api/views/x8fc-8rcq/rows.csv?accessType=DOWNLOAD')\n",
    "chicago_libraries_df"
   ]
  }
 ],
 "metadata": {
  "kernelspec": {
   "display_name": "Python 3",
   "language": "python",
   "name": "python3"
  },
  "language_info": {
   "codemirror_mode": {
    "name": "ipython",
    "version": 3
   },
   "file_extension": ".py",
   "mimetype": "text/x-python",
   "name": "python",
   "nbconvert_exporter": "python",
   "pygments_lexer": "ipython3",
   "version": "3.9.0"
  }
 },
 "nbformat": 4,
 "nbformat_minor": 4
}
