{
 "cells": [
  {
   "cell_type": "markdown",
   "metadata": {},
   "source": [
    "For this homework, you do not have to submit answers in separate `.py` or `.md` files. Instead, please put your answers in this notebook. You will also make changes to a `.py` file that I provided for you.\n",
    "\n",
    "### Problem 1:\n",
    "\n",
    "[Watch this Video](https://chelseatroy.com/2020/05/05/transcript-debugging-techniques-for-uncertain-times/) called \"Debugging: Techniques for Uncertain Times.\" It's a little hokey (conference talks sometimes have to be), but it talks about debugging strategies.\n",
    "\n",
    "That link goes to a blog post with the video embedded in it, and the blog post is a transcript of the video so you can follow along with the slides and written text if you like.\n",
    "\n",
    "**Answer the following questions:**\n",
    "\n",
    "1. There are two modes of software engineering. Which one is the one that most programming tutorials demonstrate?\n",
    "2. How do you switch from progress mode to investigation mode?\n",
    "3. What strategy might you use to find a bug in a very very large, single-threaded program?"
   ]
  },
  {
   "cell_type": "markdown",
   "metadata": {},
   "source": [
    "# YOUR ANSWERS HERE\n",
    "\n",
    "1. Most programming tutorials demonstrate progress mode which is demonstrating how to do something in a code base during a video recording.\n",
    "\n",
    "2. You switch from progress to investigation mode by slowing down and establishing that you do not understand the behavior of your code. You need to ask questions that help us find the problem.\n",
    "\n",
    "3. I might use the binary search strategy, beacuse it takes O(logN) to find the bug."
   ]
  },
  {
   "cell_type": "markdown",
   "metadata": {},
   "source": [
    "### Problem 4\n",
    "\n",
    "[Watch this Video](https://youtu.be/h_CAQ5218Mw) about using breakpoints to debug your programs.\n",
    "\n",
    "Then check out `bird_watching_session.py` in this folder. This is a program that Chicago bird watchers want to use to log their bird observations. Besides the initializer, it has two methods: `record`, which the birders use to record what they see, and `classify`, which attempts to classify the birds. \n",
    "\n",
    "The Chicago Birdwatching Society has come to you with some complaints about this program. They have noticed three problems.\n",
    "\n",
    "**Here are the problems:**\n",
    "1. session.classifications should return a list of strings describing the different kinds of birds seen during a session. That's not what it returns right now.\n",
    "2. session.birds_seen should return the number of birds seen during a session. For some reason it doesn't do that.\n",
    "3. Some of the classifications in session.classifications are wrong. The birders don't know why (they're not software engineers) but, for example, a black bird in Clark Park is a raven, not a red-shouldered blackbird.\n",
    "\n",
    "**Track down the bugs, explain why each bug was happening, and then fix it in `bird_watching_session.py`!**"
   ]
  },
  {
   "cell_type": "markdown",
   "metadata": {},
   "source": [
    "# YOUR ANSWERS HERE\n",
    "\n",
    "1. Bug 1 happened because...\n",
    "`[self.classify(observation.color, observation.location_seen) for observation in observations]` is a list, when using ` self.classifications.append` we will get a list of list, instead of a list of stings. So we need to change it to \n",
    "` self.classifications += [self.classify(observation.color, observation.location_seen) for observation in observations]`\n",
    "2. Bug 2 happened because...\n",
    "It uses `birds_seen` instead of `self.birds_seen`\n",
    "\n",
    "3. Bug 3 happened because...\n",
    "`peninsula_bird = location_seen = \"Solidarity Drive\"` can not judge whether a peninsula bird it was seen on Solidarity Drive. We need to change the second `=` to `==`."
   ]
  },
  {
   "cell_type": "markdown",
   "metadata": {},
   "source": [
    "These tests might help you out in your search :)"
   ]
  },
  {
   "cell_type": "code",
   "execution_count": 1,
   "metadata": {},
   "outputs": [
    {
     "name": "stdout",
     "output_type": "stream",
     "text": [
      "Requirement already satisfied: colorama in /Users/wxh/miniforge3/lib/python3.9/site-packages (0.4.4)\n",
      "['Red-Shouldered Blackbird', 'Raven', 'Seagull', \"Serrano (Field Museum's Scarlet Maccaw)\", 'juvenile Bald Eagle', 'Eastern Heron']\n",
      "[<class 'str'>, <class 'str'>, <class 'str'>, <class 'str'>, <class 'str'>, <class 'str'>]\n",
      "{<class 'str'>}\n"
     ]
    }
   ],
   "source": [
    "import sys\n",
    "!{sys.executable} -m pip install colorama \n",
    "\n",
    "sys.path.insert(0, '..')\n",
    "from test_framework_exercise.phoenix_test.matchers import FailedAssertion, Assertion, assert_that\n",
    "from test_framework_exercise.phoenix_test.test import Test\n",
    "sys.path.remove('..')\n",
    "\n",
    "from bird_watching_session import BirdWatchingSession, Observation"
   ]
  },
  {
   "cell_type": "code",
   "execution_count": 2,
   "metadata": {},
   "outputs": [
    {
     "name": "stdout",
     "output_type": "stream",
     "text": [
      "\u001b[32m    test_classification_method passed!\n",
      "\u001b[32m    test_classifications_data_type passed!\n",
      "\u001b[32m    test_observation_count passed!\n",
      "\u001b[0m    3 out of 3 tests passed.\n",
      "\n"
     ]
    },
    {
     "data": {
      "text/plain": [
       "(3, 3)"
      ]
     },
     "execution_count": 2,
     "metadata": {},
     "output_type": "execute_result"
    }
   ],
   "source": [
    "class BirdWatcherSessionTest(Test):\n",
    "    def setup(self):\n",
    "        self.session = BirdWatchingSession()\n",
    "        self.session.record(Observation('black', 'Solidarity Drive'))\n",
    "        self.session.record(Observation('black', 'Clark Park'))\n",
    "        self.session.record(Observation('grey', 'Solidarity Drive'))\n",
    "        self.session.record(Observation('red', 'Solidarity Drive'))\n",
    "        self.session.record(Observation('brown', 'Starved Rock State Park'))\n",
    "        self.session.record(Observation('grey', 'Chicago River'))\n",
    "\n",
    "    def test_classifications_data_type(self):\n",
    "        types = [type(item) for item in self.session.classifications]\n",
    "        assert_that(set(types)).has_size(1)\n",
    "        assert_that(types[0]).equals(str)\n",
    "        \n",
    "    def test_observation_count(self):\n",
    "        assert_that(self.session.birds_seen).equals(6)\n",
    "        \n",
    "    def test_classification_method(self):\n",
    "        assert_that(self.session.classify('black', 'Solidarity Drive')).equals(\"Red-Shouldered Blackbird\")\n",
    "        assert_that(self.session.classify('black', 'Clark Park')).equals(\"Raven\")\n",
    "        assert_that(self.session.classify('grey', 'Solidarity Drive')).equals(\"Seagull\")\n",
    "        assert_that(self.session.classify('red', 'Solidarity Drive')).equals(\"Serrano (Field Museum's Scarlet Maccaw)\")\n",
    "        assert_that(self.session.classify('brown', 'Starved Rock State Park')).equals(\"juvenile Bald Eagle\")\n",
    "        assert_that(self.session.classify('grey', 'Chicago River')).equals(\"Eastern Heron\")\n",
    "        \n",
    "BirdWatcherSessionTest().run()"
   ]
  },
  {
   "cell_type": "code",
   "execution_count": null,
   "metadata": {},
   "outputs": [],
   "source": []
  }
 ],
 "metadata": {
  "kernelspec": {
   "display_name": "Python 3 (ipykernel)",
   "language": "python",
   "name": "python3"
  },
  "language_info": {
   "codemirror_mode": {
    "name": "ipython",
    "version": 3
   },
   "file_extension": ".py",
   "mimetype": "text/x-python",
   "name": "python",
   "nbconvert_exporter": "python",
   "pygments_lexer": "ipython3",
   "version": "3.9.7"
  }
 },
 "nbformat": 4,
 "nbformat_minor": 4
}
