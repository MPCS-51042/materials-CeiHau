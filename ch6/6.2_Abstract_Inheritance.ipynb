{
 "cells": [
  {
   "cell_type": "markdown",
   "metadata": {},
   "source": [
    "## Week 5:  Class Methods & Attributes, Static methods,  Properties, Object Polymorphism: Inhertiance, Abstract Base Classes "
   ]
  },
  {
   "cell_type": "markdown",
   "metadata": {},
   "source": [
    "### Video 5.4: Abstract Base Classes (ABCs) \n",
    "\n",
    "An **abstract class** is a class that cannot be instantiated. The class is mainly used to define an *interface*, which contains a collection of methods that a **concrete class** (i.e., a subclass of the abstract base class) must implement. \n",
    "\n",
    "\n",
    "**Why do we want ABCs**? To reap the benefits of polymoprhism and to ensure that classes implement functionality that is required by the objects within polymorphic functions. \n",
    "\n",
    "For example, lets define a function that prints the dot product between two vectors: "
   ]
  },
  {
   "cell_type": "code",
   "execution_count": null,
   "metadata": {},
   "outputs": [],
   "source": [
    "def print_dprod(v1,v2):\n",
    "    print(v1.dot_product(v2))"
   ]
  },
  {
   "cell_type": "markdown",
   "metadata": {},
   "source": [
    "It would be nice if the ``print_dprod`` function was polymorphic for all vectors of any dimension (``Vec2``, ``Vec3``, etc.) because then we could potentially use it on any Vector object of types. The only requirement is that those types define a ``dot_product`` method. "
   ]
  },
  {
   "cell_type": "markdown",
   "metadata": {},
   "source": [
    "Lets say we have two vector types: ``Vec2`` and ``Vec3``"
   ]
  },
  {
   "cell_type": "code",
   "execution_count": null,
   "metadata": {},
   "outputs": [],
   "source": [
    "class Vec2:\n",
    "    def __init__(self,x,y):\n",
    "        self.x = x\n",
    "        self.y = y  \n",
    "        \n",
    "class Vec3:\n",
    "    def __init__(self,x,y,z):\n",
    "        self.x = x\n",
    "        self.y = y  \n",
    "        self.z = z "
   ]
  },
  {
   "cell_type": "markdown",
   "metadata": {},
   "source": [
    "We can force that these types implement an interface (i.e., an abstract base class) such that we can guarantee that objects we pass to ``print_dprod`` will always work by forcing them to implement a ``dot_product`` method. \n",
    "\n",
    "We will define an abstract class called ``Vector`` that has only the required method: \n",
    "\n",
    "`` def dot_product(self, other) `` \n",
    "\n",
    "such that we can do the following: "
   ]
  },
  {
   "cell_type": "code",
   "execution_count": null,
   "metadata": {},
   "outputs": [],
   "source": [
    "v1 = Vec2(1,2)\n",
    "v2 = Vec2(3,4)"
   ]
  },
  {
   "cell_type": "code",
   "execution_count": null,
   "metadata": {},
   "outputs": [],
   "source": [
    "# Throws an error because Vec2 does not define a dot_product function \n",
    "print_dprod(v1,v2)"
   ]
  },
  {
   "cell_type": "code",
   "execution_count": null,
   "metadata": {},
   "outputs": [],
   "source": [
    "v3 = Vec3(6,7,3)\n",
    "v4 = Vec3(1,2,3)"
   ]
  },
  {
   "cell_type": "code",
   "execution_count": null,
   "metadata": {},
   "outputs": [],
   "source": [
    "# Throws an error because Vec3 does not define a dot_product function \n",
    "print_dprod(v3,v4)"
   ]
  },
  {
   "cell_type": "markdown",
   "metadata": {},
   "source": [
    "#### Defining an Abstract Base Class \n",
    "\n",
    "In Python3, there are two ways to implement abstrat base classes: \n",
    "\n",
    "- Special metaclass argument: \n",
    "    ``metaclass=ABCMeta`` \n",
    "    \n",
    "which goes inside the ``(...)`` of the ``class`` statement where normally the superclass name is provided. You are required to import the ``abc`` package to make an abstract class."
   ]
  },
  {
   "cell_type": "code",
   "execution_count": null,
   "metadata": {},
   "outputs": [],
   "source": [
    "# Must import the ABCMeta class and abstractmethod property from the abc package. \n",
    "\n",
    "from abc import ABCMeta, abstractmethod\n",
    "\n",
    "class Vector(metaclass=ABCMeta):\n",
    "    \n",
    "    @abstractmethod\n",
    "    def dot_product(self, other):\n",
    "        pass "
   ]
  },
  {
   "cell_type": "markdown",
   "metadata": {},
   "source": [
    "The ``@abstractmethod`` decorator signals to the interpreter that a subclass that inherits from the ``Vector`` abstract class must provide an implementation for ``dot_product``.  The ``pass`` is required because methods must have a single statement. "
   ]
  },
  {
   "cell_type": "markdown",
   "metadata": {},
   "source": [
    "The more common way to define an abstract class in Python 3.4+ can just inherit from ``ABC`` class."
   ]
  },
  {
   "cell_type": "code",
   "execution_count": null,
   "metadata": {},
   "outputs": [],
   "source": [
    "# Must import the ABC class and abstractmethod decorator from the abc package. \n",
    "from abc import ABC, abstractmethod\n",
    "\n",
    "class Vector(ABC):\n",
    "    \n",
    "    @abstractmethod\n",
    "    def dot_product(self, other):\n",
    "        pass "
   ]
  },
  {
   "cell_type": "markdown",
   "metadata": {},
   "source": [
    "Note that you cannot create an instance of an abstract class. \n"
   ]
  },
  {
   "cell_type": "code",
   "execution_count": null,
   "metadata": {},
   "outputs": [],
   "source": [
    "# Throws an error when trying to create a instace of a Vector\n",
    "v_1 = Vector()"
   ]
  },
  {
   "cell_type": "markdown",
   "metadata": {},
   "source": [
    "The abstract class useful for enforcing the implementation of a set of methods. \n",
    "\n",
    "Now we can make our ``Vec2`` and ``Vec3`` classes inherit ``Vector``. This means we must implement the methods defined as ``@abstractmethod`` in the class. "
   ]
  },
  {
   "cell_type": "code",
   "execution_count": null,
   "metadata": {},
   "outputs": [],
   "source": [
    "class Vec2(Vector):\n",
    "    def __init__(self,x,y):\n",
    "        self.x = x\n",
    "        self.y = y  \n",
    "    def dot_product(self, other): \n",
    "        return self.x * other.x + self.y * other.y\n",
    "        \n",
    "class Vec3(Vector):\n",
    "    def __init__(self,x,y,z):\n",
    "        self.x = x\n",
    "        self.y = y  \n",
    "        self.z = z \n",
    "    def dot_product(self, other): \n",
    "        return self.x * other.x + self.y * other.y + self.z * other.z"
   ]
  },
  {
   "cell_type": "markdown",
   "metadata": {},
   "source": [
    "Now we can call the state the following for the ``print_dprod``"
   ]
  },
  {
   "cell_type": "code",
   "execution_count": null,
   "metadata": {},
   "outputs": [],
   "source": [
    "def print_dprod(v1,v2):\n",
    "    \"\"\"\n",
    "    print_dprod works for all Vector types. \n",
    "    \"\"\"\n",
    "    print(v1.dot_product(v2))"
   ]
  },
  {
   "cell_type": "code",
   "execution_count": null,
   "metadata": {},
   "outputs": [],
   "source": [
    "# Vec2 and Vec3 objects are instances of Vector since their classes \n",
    "# inherit from the Vector ABC.\n",
    "v1 = Vec2(1,2)\n",
    "v2 = Vec2(3,4)\n",
    "v3 = Vec3(6,7,3)\n",
    "v4 = Vec3(1,2,3)\n",
    "\n",
    "print(isinstance(v1, Vec2)) \n",
    "print(isinstance(v1, Vector))\n",
    "print(\"----\")\n",
    "print(isinstance(v3, Vec3)) \n",
    "print(isinstance(v3, Vector))"
   ]
  },
  {
   "cell_type": "code",
   "execution_count": null,
   "metadata": {},
   "outputs": [],
   "source": [
    "#Now the foo function works for the vectors. \n",
    "print_dprod(v1,v2)\n",
    "print_dprod(v3,v4)"
   ]
  },
  {
   "cell_type": "markdown",
   "metadata": {},
   "source": [
    "### Code Demo: Inheritance and Abstract Base Classes (Live Discussion Session)\n",
    "    \n",
    "- During our Discussion Session this week, I will go over a live coding session of using inheritance and abstract base classes. "
   ]
  }
 ],
 "metadata": {
  "kernelspec": {
   "display_name": "Python 3",
   "language": "python",
   "name": "python3"
  },
  "language_info": {
   "codemirror_mode": {
    "name": "ipython",
    "version": 3
   },
   "file_extension": ".py",
   "mimetype": "text/x-python",
   "name": "python",
   "nbconvert_exporter": "python",
   "pygments_lexer": "ipython3",
   "version": "3.9.0"
  }
 },
 "nbformat": 4,
 "nbformat_minor": 2
}
