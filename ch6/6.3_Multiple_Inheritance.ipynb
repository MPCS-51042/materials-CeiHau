{
 "cells": [
  {
   "cell_type": "markdown",
   "metadata": {},
   "source": [
    "### Multiple Inheritance \n",
    "\n",
    "Last lecture, we talked about inheritance where one class can inherit the existing code from a prexisitng class by doing the following: \n"
   ]
  },
  {
   "cell_type": "code",
   "execution_count": null,
   "metadata": {},
   "outputs": [],
   "source": [
    "# Inheritance Syntax (Do not run. This is only for syntax purposes)\n",
    "class Subclass(Superclass):\n",
    "    pass "
   ]
  },
  {
   "cell_type": "markdown",
   "metadata": {},
   "source": [
    "However, a subclass can inherit from more than a single superclass. We call this multiple inheritance. You specify the inheritance in the ``()`` seperated by commas "
   ]
  },
  {
   "cell_type": "code",
   "execution_count": null,
   "metadata": {},
   "outputs": [],
   "source": [
    "# Multiple Inheritance Syntax  (Do not run. This is only for syntax purposes)\n",
    "class Subclass(Superclass1, Superclass2, Superclass3):\n",
    "    pass "
   ]
  },
  {
   "cell_type": "markdown",
   "metadata": {},
   "source": [
    "Subclasses that inherit from multiple superclasses inherit the attributes and behaviors from all its superclasses. \n",
    "\n",
    "**How is this done?**\n",
    "\n",
    "> First check the subclass for an attribute/method. IF not found then starting with the leftmost superclass, in parenthetical order, searched the class, its superclass, superclass's superclass, etc. If the attribute remained unresolved, interpreter advanced to the next superclass (from left to right).\n",
    "\n",
    "\n",
    "**Note**: Multiple inheritance can complicate the process of inheritance search when resolving references to attributes on instances. Thus, limit the number of the superclasses when using multiple inheritance when possible. \n",
    "\n",
    "The ``__mro__`` attribute of a class object will indicate the order in which class namespaces are searched when attempting to resolve an attribute. "
   ]
  },
  {
   "cell_type": "code",
   "execution_count": null,
   "metadata": {},
   "outputs": [],
   "source": [
    "class A:\n",
    "    pass \n",
    "\n",
    "class B:\n",
    "    pass \n",
    "\n",
    "class C(A,B):\n",
    "    pass \n",
    "\n",
    "C.__mro__"
   ]
  },
  {
   "cell_type": "markdown",
   "metadata": {},
   "source": [
    "**Live Code Demo (Discussion Session)**: Data Structures We will use these concepts discussed this week to build more Advance Data Strcutures that Python does not provide via built-in types. "
   ]
  },
  {
   "cell_type": "code",
   "execution_count": null,
   "metadata": {},
   "outputs": [],
   "source": [
    "### Multiple Inheritance \n",
    "\n",
    "Last lecture, we talked about inheritance where one class can inherit the existing code from a prexisitng class by doing the following: \n",
    "\n",
    "\n",
    "# Inheritance Syntax (Do not run. This is only for syntax purposes)\n",
    "class Subclass(Superclass):\n",
    "    pass \n",
    "\n",
    "However, a subclass can inherit from more than a single superclass. We call this multiple inheritance. You specify the inheritance in the ``()`` seperated by commas \n",
    "\n",
    "# Multiple Inheritance Syntax  (Do not run. This is only for syntax purposes)\n",
    "class Subclass(Superclass1, Superclass2, Superclass3):\n",
    "    pass \n",
    "\n",
    "Subclasses that inherit from multiple superclasses inherit the attributes and behaviors from all its superclasses. \n",
    "\n",
    "**How is this done?**\n",
    "\n",
    "> First check the subclass for an attribute/method. IF not found then starting with the leftmost superclass, in parenthetical order, searched the class, its superclass, superclass's superclass, etc. If the attribute remained unresolved, interpreter advanced to the next superclass (from left to right).\n",
    "\n",
    "\n",
    "**Note**: Multiple inheritance can complicate the process of inheritance search when resolving references to attributes on instances. Thus, limit the number of the superclasses when using multiple inheritance when possible. \n",
    "\n",
    "The ``__mro__`` attribute of a class object will indicate the order in which class namespaces are searched when attempting to resolve an attribute. \n",
    "\n",
    "class A:\n",
    "    pass \n",
    "\n",
    "class B:\n",
    "    pass \n",
    "\n",
    "class C(A,B):\n",
    "    pass \n",
    "\n",
    "C.__mro__\n",
    "\n",
    "**Live Code Demo (Discussion Session)**: Data Structures We will use these concepts discussed this week to build more Advance Data Strcutures that Python does not provide via built-in types. "
   ]
  }
 ],
 "metadata": {
  "kernelspec": {
   "display_name": "Python 3",
   "language": "python",
   "name": "python3"
  },
  "language_info": {
   "codemirror_mode": {
    "name": "ipython",
    "version": 3
   },
   "file_extension": ".py",
   "mimetype": "text/x-python",
   "name": "python",
   "nbconvert_exporter": "python",
   "pygments_lexer": "ipython3",
   "version": "3.9.0"
  }
 },
 "nbformat": 4,
 "nbformat_minor": 4
}
