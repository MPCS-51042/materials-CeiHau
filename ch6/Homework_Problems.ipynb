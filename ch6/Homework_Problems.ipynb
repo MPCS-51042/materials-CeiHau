{
 "cells": [
  {
   "cell_type": "markdown",
   "metadata": {},
   "source": [
    "## Problem 1\n",
    "\n",
    "Write a class named Fraction that represents a rational number (a number that can be expressed as the quotient of two integers). It is required to implement the following methods:\n",
    "\n",
    "The __init__(self, numerator, denominator) method should accept integer values for the numerator and denominator arguments and set instance attributes of the same name. If the denominator is 0, raise a ZeroDivisionError exception. Use the [math.gcd function](https://docs.python.org/3/library/math.html#math.gcd) to find the greatest common divisor (GCD) of the numerator and denominator and then divide each of them by it to \"normalize\" the fraction. For example, the fraction 28/20 will get normalized to 7/5 since the GCD of 28 and 20 is 4:\n",
    "\n",
    ">>> x = Fraction(28, 20)\n",
    ">>> x\n",
    "Fraction(7, 5)\n",
    "Implement the basic binary operators (+, -, *, /) so that a Fraction can combined with either another fraction or an integer. All methods should return a new Fraction. Note that you may need to implement \"reversed\" operators for arithmetic with integers to fully work.\n",
    "\n",
    "- The __neg__ method should return a new Fraction instance with the numerator negated.\n",
    "- The __repr__ method should return a string of the form Fraction(a, b) where a and b are the numerator and denominator, respectively.\n",
    "\n",
    "Addition should also work:\n",
    "\n",
    "```\n",
    "__repr__(Frac(1, 2) + Frac(1, 3)) = Fraction(5/6)\n",
    "```"
   ]
  },
  {
   "cell_type": "markdown",
   "metadata": {},
   "source": [
    "## Problem 2\n",
    "\n",
    "Make the fraction addition method work with floats and integers:\n",
    "\n",
    "```\n",
    "__repr__(Frac(1, 2) + 1) = Fraction(3/2)\n",
    "__repr__(Frac(1, 2) + 1.0) = Fraction(3/2)\n",
    "__repr__(Frac(1, 2) + 0.6) = Fraction(11/10)\n",
    "__repr__(3.2 + Frac(3, 2) = Fraction(47/10)\n",
    "```"
   ]
  },
  {
   "cell_type": "markdown",
   "metadata": {},
   "source": [
    "## Problem 3\n",
    "\n",
    "In music, the [pitch](https://en.wikipedia.org/wiki/Pitch_(music)) of a note refers to how high or low the note is. For this problem, you will write a Pitch class that represents a musical pitch as identified by a musical note name and a number identifying the pitch's octave. It's easiest to think about pitches by looking at a piano. A piano features a repeating group of 12 keys, 7 of which are white and 5 of which are black:\n",
    "\n",
    "The white keys are ordered as C, D, E, F, G, A, and B. After B comes C in the next repeating group of 12 keys. Some pairs of white keys have a black key in between that is denoted either by a sharp (♯) or a flat (♭). Sharp means \"higher in pitch\", so C♯ is above C. Flat means \"lower in pitch\", so D♭ is below D. That is, we can refer to the black key between C and D as either C♯ or D♭.\n",
    "Since pianos have 88 keys in total, all the notes appear multiple times. In order to refer to a specific key on the piano, it's necessary to say not only the name of the note (e.g., F) but also which group of 12 keys it appears in. One common system for identifying a specific key (or pitch) is called [scientific pitch notation (SPN)](https://en.wikipedia.org/wiki/Scientific_pitch_notation). In SPN, we identify the name of the note along with what octave it appears in:\n",
    "\n",
    "The note colored in cyan is C in octave 4, so we refer to it as C4; the first note in octave 5 is C5, and so on. Some final terminology: the distance between two adjacent notes (e.g., C and C♯, E and F, G♯ and A, etc.) on a piano is called a semitone. Note that two white keys that have a black key in between are not considered adjacent, so C and D are two semitones apart, not one.\n",
    "\n",
    "    Specifications\n",
    "Your Pitch class will represent a musical pitch as identified by the note name and what octave it appears in (see picture above). To make the class useful, you are to overload several operators to perform arithmetic operations on it.\n",
    "The Pitch constructor should take a single argument as a string in SPN format, e.g. \"D#2\". For simplicity, notes with a flat are not to be used. The constructor should work whether a lowercase or uppercase note name is used. Passing a string that is not valid should raise a ValueError.\n",
    "After an instance is constructed, it should have two attributes octave and semitone.\n",
    "The octave attribute is an int that represents which octave the pitch appears in.\n",
    "The semitone attribute is also an int that represents which note within an octave the pitch is. You should assign the value 0 to C, 1 to C#, 2 to D, and so on until you get to 11 for B.\n",
    "Adding or subtracting an integer, N, to a Pitch is to return a new pitch that is N semitones higher or lower, respectively. Augmented addition (+=) and subtraction (-=) should modify the Pitch object in-place.\n",
    "Subtracting two Pitch objects should return the number of semitones separating them as an int.\n",
    "The frequency() method should return the [frequency](https://en.wikipedia.org/wiki/Frequency#Sound) of the pitch as a float in units of hertz (Hz). To determine the frequency, we can use the fact that A4 (the yellow note on the picture above) has a frequency of exactly 440 Hz. The frequency of any other note can be determined as\n",
    "\n",
    "where x is the number of semitones separating the note from A4. For example, C5 is three semitones above A4, so its frequency can be determined by substituting 3 for x in the equation. Notes that are lower than A4 will have negative values for x.\n",
    "The from_frequency method should be a @classmethod that takes a single argument, a frequency in Hz as a float, and returns the nearest Pitch. This allows us to construct a Pitch object only knowing the frequency rather than its representation in SPN. This can be done be inverting the equation above to solve for x:\n",
    "\n",
    "Since this will give a float for x, find the nearest integer using the [round](https://docs.python.org/3/library/functions.html#round) built-in function and then return the Pitch that is that many semitones away from A4 (since the frequency of A4 is 440 Hz).\n",
    "Comparing two Pitch objects should return the result of comparing their frequencies. All comparison operators (<, <=, >, >=, ==, !=) should work for the object. If you'd like you can use the [functools.total_ordering](https://docs.python.org/3/library/functools.html#functools.total_ordering) class decorator which allows you to define only two of the comparison operators and provides your class with the remainder.\n",
    "Trying to add, subtract, or compare a Pitch object with another object that doesn't make sense should raise a TypeError exception. This can be achieved through use of the NotImplemented singleton.\n",
    "The __repr__() method should return the pitch in SPN as a string.\n"
   ]
  },
  {
   "cell_type": "code",
   "execution_count": null,
   "metadata": {},
   "outputs": [],
   "source": []
  }
 ],
 "metadata": {
  "kernelspec": {
   "display_name": "Python 3",
   "language": "python",
   "name": "python3"
  },
  "language_info": {
   "codemirror_mode": {
    "name": "ipython",
    "version": 3
   },
   "file_extension": ".py",
   "mimetype": "text/x-python",
   "name": "python",
   "nbconvert_exporter": "python",
   "pygments_lexer": "ipython3",
   "version": "3.6.8"
  }
 },
 "nbformat": 4,
 "nbformat_minor": 4
}
