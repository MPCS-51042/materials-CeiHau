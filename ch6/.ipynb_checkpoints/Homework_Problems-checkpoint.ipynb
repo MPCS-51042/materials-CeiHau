{
 "cells": [
  {
   "cell_type": "markdown",
   "metadata": {},
   "source": [
    "## Problem 1\n",
    "\n",
    "Write a class named Fraction that represents a rational number (a number that can be expressed as the quotient of two integers). It is required to implement the following methods:\n",
    "The __init__(self, numerator, denominator) method should accept integer values for the numerator and denominator arguments and set instance attributes of the same name. If the denominator is 0, raise a ZeroDivisionError exception. Use the math.gcd function to find the greatest common divisor (GCD) of the numerator and denominator and then divide each of them by it to \"normalize\" the fraction. For example, the fraction 28/20 will get normalized to 7/5 since the GCD of 28 and 20 is 4:\n",
    "\n",
    ">>> x = Fraction(28, 20)\n",
    ">>> x\n",
    "Fraction(7, 5)\n",
    "Implement the basic binary operators (+, -, *, /) so that a Fraction can combined with either another fraction or an integer. All methods should return a new Fraction. Note that you may need to implement \"reversed\" operators for arithmetic with integers to fully work.\n",
    "\n",
    "- The __neg__ method should return a new Fraction instance with the numerator negated.\n",
    "- The __repr__ method should return a string of the form Fraction(a, b) where a and b are the numerator and denominator, respectively.\n",
    "\n",
    "Addition and subtraction should also work:"
   ]
  }
 ],
 "metadata": {
  "kernelspec": {
   "display_name": "Python 3",
   "language": "python",
   "name": "python3"
  },
  "language_info": {
   "codemirror_mode": {
    "name": "ipython",
    "version": 3
   },
   "file_extension": ".py",
   "mimetype": "text/x-python",
   "name": "python",
   "nbconvert_exporter": "python",
   "pygments_lexer": "ipython3",
   "version": "3.6.8"
  }
 },
 "nbformat": 4,
 "nbformat_minor": 4
}
