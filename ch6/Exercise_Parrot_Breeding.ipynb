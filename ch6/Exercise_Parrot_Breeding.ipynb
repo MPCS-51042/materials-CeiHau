{
 "cells": [
  {
   "cell_type": "code",
   "execution_count": null,
   "metadata": {},
   "outputs": [],
   "source": [
    "class GeneticError(Exception):\n",
    "    pass\n",
    "\n",
    "class Parrot():\n",
    "    pass\n",
    "\n",
    "class BlueAndGoldMaccaw(Parrot):\n",
    "    pass\n",
    "\n",
    "class ScarletMaccaw(Parrot):\n",
    "    def __add__(self, other):\n",
    "        if type(other).__name__ == \"BlueAndGoldMaccaw\":\n",
    "            return CatalinaMaccaw()\n",
    "        elif type(other).__name__ == \"ScarletMaccaw\":\n",
    "            return ScarletMaccaw()\n",
    "        else:\n",
    "            raise GeneticError(\"These two species cannot breed together!\")\n",
    "\n",
    "\n",
    "class CatalinaMaccaw(Parrot):\n",
    "    pass"
   ]
  },
  {
   "cell_type": "code",
   "execution_count": null,
   "metadata": {},
   "outputs": [],
   "source": [
    "ScarletMaccaw() + CatalinaMaccaw()"
   ]
  },
  {
   "cell_type": "code",
   "execution_count": null,
   "metadata": {},
   "outputs": [],
   "source": []
  }
 ],
 "metadata": {
  "kernelspec": {
   "display_name": "Python 3",
   "language": "python",
   "name": "python3"
  },
  "language_info": {
   "codemirror_mode": {
    "name": "ipython",
    "version": 3.0
   },
   "file_extension": ".py",
   "mimetype": "text/x-python",
   "name": "python",
   "nbconvert_exporter": "python",
   "pygments_lexer": "ipython3",
   "version": "3.6.8"
  }
 },
 "nbformat": 4,
 "nbformat_minor": 0
}
