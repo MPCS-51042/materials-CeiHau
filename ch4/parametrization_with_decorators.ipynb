{
 "cells": [
  {
   "cell_type": "code",
   "execution_count": null,
   "metadata": {},
   "outputs": [],
   "source": [
    "def phoenix_parametrize(*args):\n",
    "    def decorator(function):\n",
    "        for example in args[-1]:\n",
    "            function(*example)\n",
    "    return decorator \n",
    "\n",
    "class PhoenixTestClass():\n",
    "    pass\n",
    "\n",
    " \n",
    "oot = [(\"x\", \"x\"),\n",
    "       (\"2\", \"2\"),\n",
    "       (\"2\", \"21\")]\n",
    "\n",
    "class PrintTest(PhoenixTestClass):\n",
    "    @phoenix_parametrize('one', 'two', oot)\n",
    "    def printo(one, two):\n",
    "        print(one)\n",
    "        print(two)\n",
    "    \n",
    "PrintTest.printo"
   ]
  }
 ],
 "metadata": {
  "kernelspec": {
   "display_name": "Python 3",
   "language": "python",
   "name": "python3"
  },
  "language_info": {
   "codemirror_mode": {
    "name": "ipython",
    "version": 3
   },
   "file_extension": ".py",
   "mimetype": "text/x-python",
   "name": "python",
   "nbconvert_exporter": "python",
   "pygments_lexer": "ipython3",
   "version": "3.9.0"
  }
 },
 "nbformat": 4,
 "nbformat_minor": 4
}
