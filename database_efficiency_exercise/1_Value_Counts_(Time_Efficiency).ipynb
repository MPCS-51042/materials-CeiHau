{
 "cells": [
  {
   "cell_type": "markdown",
   "metadata": {},
   "source": [
    "## In Chapter 8, you worked on an in-memory data store.\n",
    "\n",
    "So far it wraps a dictionary with keys that point to each of the items. Now we'll start building out some of the functionality that more sophisticated data stores have. Let's make a new key-value data store. It has a function to `get` values and `set` values. It also has a `count` function, which currently does nothing."
   ]
  },
  {
   "cell_type": "code",
   "execution_count": null,
   "metadata": {},
   "outputs": [],
   "source": [
    "import random\n",
    "from datetime import datetime\n",
    "\n",
    "class Database():\n",
    "    def __init__(self):\n",
    "        self._data = {}\n",
    "        \n",
    "        self.foods = [\"apple\", \"banana\", \"carrot\", \"celery\", \"mirepoix\", \"clementine\"]\n",
    "\n",
    "        for x in range(1000000):\n",
    "            key = hash(datetime.now()) # This is how we're getting a pseudo-random and probably unique ID\n",
    "            self.set(key, random.choices(self.foods)[0])\n",
    "    \n",
    "    def get(self, key):\n",
    "        return self._data[key]\n",
    "    \n",
    "    def set(self, key, value):\n",
    "        self._data[key] = value\n",
    "    \n",
    "    def count(self, value):\n",
    "        pass\n",
    "    "
   ]
  },
  {
   "cell_type": "markdown",
   "metadata": {},
   "source": [
    "Take a look at the initializer for this data store; we fill it up with lots of instances of a few different fruit and vegetable values. The below code will take a few seconds to run because we are adding so many values to our data store!"
   ]
  },
  {
   "cell_type": "code",
   "execution_count": null,
   "metadata": {},
   "outputs": [],
   "source": [
    "db = Database()"
   ]
  },
  {
   "cell_type": "markdown",
   "metadata": {},
   "source": [
    "Now, when we have a table full of data, it's _pretty common_ for clients to want to be able to find out _how many_ of each value are in a given column. For example, if we have a table of different foods, maybe we want to know how many times each food appears in the database. \n",
    "\n",
    "Today we are going to implement the `count` function. See the automated test below, which illustrate exactly how this function should work. Two things to note:\n",
    "\n",
    "1. Right now, the test _fails_ because you'll have to implement `count` to get it to pass.\n",
    "2. The test is looking for a _range_ rather than an exact answer because we're randomly assigning values into the database, so the test represents a 99.8% **confidence interval** around the number of clementine values your database instance will randomly have (see how confidence intervals are useful? :)"
   ]
  },
  {
   "cell_type": "code",
   "execution_count": null,
   "metadata": {},
   "outputs": [],
   "source": [
    "# You need these imports to run the tests\n",
    "import sys\n",
    "!{sys.executable} -m pip install colorama \n",
    "\n",
    "sys.path.insert(0, '..')\n",
    "from test_framework_exercise.phoenix_test.matchers import FailedAssertion, Assertion, assert_that\n",
    "from test_framework_exercise.phoenix_test.test import Test\n",
    "sys.path.remove('..')"
   ]
  },
  {
   "cell_type": "code",
   "execution_count": null,
   "metadata": {},
   "outputs": [],
   "source": [
    "class DatabaseCountTest(Test):\n",
    "    def setup(self):\n",
    "        self.db = Database()\n",
    "                \n",
    "    def test_count(self):\n",
    "        result = self.db.count(\"clementine\")\n",
    "        assert_that(160000 < result < 170000).is_true()\n",
    "\n",
    "DatabaseCountTest().run()"
   ]
  },
  {
   "cell_type": "markdown",
   "metadata": {},
   "source": [
    "### Challenge: Implement the `count` function. \n",
    "\n",
    "The `count` function will allow you to get the number of a certain value stored in your key value store so that the above test passes."
   ]
  },
  {
   "cell_type": "markdown",
   "metadata": {},
   "source": [
    "## Done? OK. \n",
    "\n",
    "Now it's time to tell you about my secret motive for this problem: this exercise is a helpful introduction to the concepts of time and space efficiency in software engineering and how to evaluate those tradeoffs.\n",
    "\n",
    "To make it easier to do that, let's introduce everyone's favorite thing: a decorator! This decorator, calle `stopwatch`, prints out how long a method took to run."
   ]
  },
  {
   "cell_type": "code",
   "execution_count": null,
   "metadata": {},
   "outputs": [],
   "source": [
    "def stopwatch(func):\n",
    "    def wrapper(*args, **kwargs):\n",
    "        start = datetime.now()\n",
    "        result = func(*args, **kwargs)\n",
    "        end = datetime.now()\n",
    "        print(f\"Operation took {end - start} seconds\")\n",
    "        return result\n",
    "    \n",
    "    return wrapper"
   ]
  },
  {
   "cell_type": "markdown",
   "metadata": {},
   "source": [
    "### Challenge: Annotate the `count` function with the `@stopwatch` decorator. \n",
    "\n",
    "Then, duplicate the line ` result = self.db.count(\"clementine\")` a few times in your test so it runs several times.\n",
    "\n",
    "Run the test again. You should get several printouts of how long the test is taking.\n",
    "\n",
    "Why do you think the test is taking so long?\n",
    "\n",
    ".\n",
    "..\n",
    "...\n",
    "....\n",
    "...\n",
    "..\n",
    "."
   ]
  },
  {
   "cell_type": "markdown",
   "metadata": {},
   "source": [
    "## Introducing performance testing!\n",
    "\n",
    "In software engineering, **performance** usually refers to a program's _speed_. And especially when it comes to fetching data, speed can be really, _really_ important. So, in addition to tests that make sure our code does the right thing, we might have tests to make sure our code does the right thing _fast enough_.\n",
    "\n",
    "Run the below test on your implementation of the database. Does it pass?"
   ]
  },
  {
   "cell_type": "code",
   "execution_count": null,
   "metadata": {},
   "outputs": [],
   "source": [
    "class DatabasePerformanceTest(Test):\n",
    "    def setup(self):\n",
    "        self.db = Database()\n",
    "                \n",
    "    def test_count_performance(self):\n",
    "        start = datetime.now()\n",
    "        self.db.count(\"clementine\")\n",
    "        end = datetime.now()\n",
    "        assert_that((end - start).total_seconds() < 0.01).is_true()        \n",
    "        \n",
    "DatabasePerformanceTest().run()"
   ]
  },
  {
   "cell_type": "markdown",
   "metadata": {},
   "source": [
    "### Challenge: Implement your `count` function so that _both_ test suites pass.\n",
    "\n",
    "What do you have to do to make that work? \n",
    "\n",
    "What are the implications of that strategy for your data store?"
   ]
  },
  {
   "cell_type": "code",
   "execution_count": null,
   "metadata": {},
   "outputs": [],
   "source": [
    "import sys\n",
    "\n",
    "sys.getsizeof(str(db._data))"
   ]
  },
  {
   "cell_type": "code",
   "execution_count": null,
   "metadata": {},
   "outputs": [],
   "source": [
    "sys.getsizeof(str(db._count))"
   ]
  },
  {
   "cell_type": "code",
   "execution_count": null,
   "metadata": {},
   "outputs": [],
   "source": []
  }
 ],
 "metadata": {
  "kernelspec": {
   "display_name": "Python 3",
   "language": "python",
   "name": "python3"
  },
  "language_info": {
   "codemirror_mode": {
    "name": "ipython",
    "version": 3
   },
   "file_extension": ".py",
   "mimetype": "text/x-python",
   "name": "python",
   "nbconvert_exporter": "python",
   "pygments_lexer": "ipython3",
   "version": "3.9.0"
  }
 },
 "nbformat": 4,
 "nbformat_minor": 4
}
