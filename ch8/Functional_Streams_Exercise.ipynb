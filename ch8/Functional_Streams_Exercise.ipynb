{
 "cells": [
  {
   "cell_type": "code",
   "execution_count": null,
   "metadata": {},
   "outputs": [],
   "source": [
    "listo = ['he', 'hi', 'hohoho']\n",
    "capital_map = map(lambda x: str.capitalize(x), listo)\n",
    "wut = list(capital_map)\n",
    "wut"
   ]
  },
  {
   "cell_type": "code",
   "execution_count": null,
   "metadata": {},
   "outputs": [],
   "source": [
    "filter_lengths = filter(lambda x: len(x) < 4, wut)\n",
    "wat = list(filter_lengths)\n",
    "wat"
   ]
  },
  {
   "cell_type": "code",
   "execution_count": null,
   "metadata": {},
   "outputs": [],
   "source": [
    "filter_from_map = filter(lambda x: len(x) < 4, capital_map)\n",
    "wot = list(filter_from_map)\n",
    "wot\n",
    "\n",
    "# observe that this does not work\n",
    "# They should be able to articulate why I hate the implementation choices that were made here."
   ]
  },
  {
   "cell_type": "code",
   "execution_count": null,
   "metadata": {},
   "outputs": [],
   "source": [
    "class Stream:\n",
    "    def __init__(self, items_as_list=[]):\n",
    "        self._data = items_as_list\n",
    "        \n",
    "    #maybe they can add methods to push to, pop from, and even index off of the stream? maybe not index\n",
    "    \n",
    "    def mapp(self, function):\n",
    "        #start with these as loops and challenge them to change them to listcomps?\n",
    "        self._data = [function(x) for x in self._data]\n",
    "        #they should be able to explain why we need this line\n",
    "        return self\n",
    "        \n",
    "    def filterr(self, function):\n",
    "        #after they change to list comps, can they further change this to a generator?\n",
    "        #What would that do? How can they check whether it did that?\n",
    "        self._data = [x for x in self._data if function(x) == True]\n",
    "        return self\n",
    "    \n",
    "    def reduce(self, function):\n",
    "        # Can they explain what is happening here?\n",
    "        iterable = iter(self._data)\n",
    "        combined_value = next(iterable)\n",
    "        for next_element in iterable:\n",
    "            combined_value = function(combined_value, next_element)\n",
    "        return combined_value\n",
    "    \n",
    "    def as_list(self):\n",
    "        return self._data\n",
    "    \n",
    "    #The underscore indicates that something is private so people can't just get the list with .data"
   ]
  },
  {
   "cell_type": "code",
   "execution_count": null,
   "metadata": {},
   "outputs": [],
   "source": [
    "Stream([\"holy\", \"forking\", \"shirtballs\"]) \\\n",
    "        .mapp(lambda x: str.capitalize(x)) \\\n",
    "        .filterr(lambda x: len(x) < 9) \\\n",
    "        .reduce(lambda x, y: x + y)\n",
    "#challenge them to instead pass in a named method!"
   ]
  },
  {
   "cell_type": "code",
   "execution_count": null,
   "metadata": {},
   "outputs": [],
   "source": []
  }
 ],
 "metadata": {
  "kernelspec": {
   "display_name": "Python 3",
   "language": "python",
   "name": "python3"
  },
  "language_info": {
   "codemirror_mode": {
    "name": "ipython",
    "version": 3.0
   },
   "file_extension": ".py",
   "mimetype": "text/x-python",
   "name": "python",
   "nbconvert_exporter": "python",
   "pygments_lexer": "ipython3",
   "version": "3.9.0"
  }
 },
 "nbformat": 4,
 "nbformat_minor": 0
}
