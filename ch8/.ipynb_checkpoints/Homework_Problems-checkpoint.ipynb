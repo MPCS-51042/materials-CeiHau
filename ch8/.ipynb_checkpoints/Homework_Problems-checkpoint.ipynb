{
 "cells": [
  {
   "cell_type": "markdown",
   "metadata": {},
   "source": [
    "## Problem 1\n",
    "\n",
    "Write a function called vectorize(func) that takes a function as its only positional argument and returns a new function that calls func multiple times. The new function should accept any number of positional arguments. If N arguments are passed to the new function, func is called N times with each of the values as a single argument. The new function should return a list of return values from each invocation of func.\n",
    "To get a feel for its use, take a look at the following example:\n",
    "\n",
    "from math import sqrt\n",
    "multisqrt = vectorize(sqrt)\n",
    "multisqrt(4.0, 25.0, 1.0, 10.0)\n",
    "[2.0, 5.0, 1.0, 3.1622776601683795]\n",
    "multisqrt(100.0, 9.0, 16.0)\n",
    "[10.0, 3.0, 4.0]"
   ]
  },
  {
   "cell_type": "code",
   "execution_count": null,
   "metadata": {},
   "outputs": [],
   "source": []
  }
 ],
 "metadata": {
  "kernelspec": {
   "display_name": "Python 3",
   "language": "python",
   "name": "python3"
  },
  "language_info": {
   "codemirror_mode": {
    "name": "ipython",
    "version": 3
   },
   "file_extension": ".py",
   "mimetype": "text/x-python",
   "name": "python",
   "nbconvert_exporter": "python",
   "pygments_lexer": "ipython3",
   "version": "3.6.8"
  }
 },
 "nbformat": 4,
 "nbformat_minor": 4
}
