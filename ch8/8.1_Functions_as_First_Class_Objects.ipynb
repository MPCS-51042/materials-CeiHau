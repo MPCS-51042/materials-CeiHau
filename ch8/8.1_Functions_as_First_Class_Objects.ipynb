{
 "cells": [
  {
   "cell_type": "markdown",
   "metadata": {},
   "source": [
    "### Video 3.5: Function Objects \n",
    "\n",
    "In Python, functions are first-class objects, which means we can: \n",
    "  - Store functions in variables \n",
    "  - Pass functions as parameter to another function \n",
    "  - Return functions within other functions \n",
    "  - Store functions within other data structures (i.e, lists, dictionaries, sets, etc.) \n",
    "  \n",
    "The ``def`` statement is just an executable statement that binds a name to the function object: "
   ]
  },
  {
   "cell_type": "code",
   "execution_count": null,
   "metadata": {},
   "outputs": [],
   "source": [
    "#Functions are just objects \n",
    "# Def statements really is just creating a variable called \"echo\"\n",
    "# and assigning this variable to a function object. \n",
    "# You can think of a \"function object\" as a unique object that \n",
    "# contains code that can be executed when called. \n",
    "def echo(message):\n",
    "    print(message)\n",
    "\n",
    "def echo(message):\n",
    "    print(f'{message} ... {message}')\n",
    "    \n",
    "print(f'echo = {echo}')\n",
    "print(f'type of echo = {type(echo)}')"
   ]
  },
  {
   "cell_type": "code",
   "execution_count": null,
   "metadata": {},
   "outputs": [],
   "source": [
    "class Smingity:\n",
    "    def what():\n",
    "        pass\n",
    "\n",
    "Smingity.__dict__ #THIS IS NAUGTY DO NOT DO THIS, I'M JUST SHOWING YOU "
   ]
  },
  {
   "cell_type": "code",
   "execution_count": null,
   "metadata": {},
   "outputs": [],
   "source": [
    "# Since \"echo\" is just a variable. we can have multiple variables\n",
    "# reference the same object it points too. \n",
    "\n",
    "import sys\n",
    "print(sys.getrefcount(echo))\n",
    "\n",
    "x = echo \n",
    "y = echo \n",
    "\n",
    "print(sys.getrefcount(echo))\n",
    "\n",
    "\n",
    "# Since \"y\", \"x\" and \"echo\" reference a function object, we can call \n",
    "# the function objects normally by using the variable names followed\n",
    "# by any required position arguments. \n",
    "x(\"Hello\")\n",
    "y(\"World\")\n",
    "\n",
    "del x\n",
    "del y\n",
    "\n",
    "print(sys.getrefcount(echo))\n",
    "\n",
    "echo(\"Goodbye\")\n"
   ]
  },
  {
   "cell_type": "code",
   "execution_count": null,
   "metadata": {},
   "outputs": [],
   "source": [
    "#We can pass functions to other functions \n",
    "# source Learning Python, Mark Lutz\n",
    "def echo(message):\n",
    "    print(message)\n",
    "    \n",
    "def indirect(func, arg):\n",
    "    func(arg)\n",
    "    \n",
    "indirect(echo, 'Argument call!')"
   ]
  },
  {
   "cell_type": "code",
   "execution_count": null,
   "metadata": {},
   "outputs": [],
   "source": [
    "# We can return functions within other other functions \n",
    "def add(a, b):\n",
    "    return a + b\n",
    "\n",
    "def get_add_func():\n",
    "    return add \n",
    "\n",
    "t = get_add_func()\n",
    "print(t(\"hello \",\"world\"))"
   ]
  },
  {
   "cell_type": "markdown",
   "metadata": {},
   "source": [
    "#### Anonymous (lambda) Functions \n",
    "\n",
    "Python also provides another way to generate function objects, via *anonymous functions* (aka lambda functions), which: \n",
    "\n",
    "-  Are expressions (not statements) that return a function object that can be called later  without providing a name (hence ``anonymous\") \n",
    "- Can be used in places where ``def`` statement is not syntactically legal (inside a literal list, inlined as a function argument, etc.) \n",
    "\n",
    "The body of an lambda function is a single expression, not a block of statements. \n",
    "    - The body is similar to a return statement in a  def statement  \n",
    "Syntax: ``lambda arg1,arg2,arg3,...,argN: expression``\n",
    "    "
   ]
  },
  {
   "cell_type": "code",
   "execution_count": null,
   "metadata": {},
   "outputs": [],
   "source": [
    "1 + (lambda arg1,arg2: arg1 + arg2)(2,3)"
   ]
  },
  {
   "cell_type": "code",
   "execution_count": null,
   "metadata": {},
   "outputs": [],
   "source": [
    "lam = lambda x, y: x * y\n",
    "print(lam)\n",
    "print(lam(2,3)) "
   ]
  },
  {
   "cell_type": "code",
   "execution_count": null,
   "metadata": {},
   "outputs": [],
   "source": [
    "# Notice this just returns the function object. It does not execute\n",
    "# the object. \n",
    "lambda a,b,c: a + b + c"
   ]
  },
  {
   "cell_type": "markdown",
   "metadata": {},
   "source": [
    "#### Why use lambda functions? \n",
    "\n",
    ">\"Lambda comes in handy as a sort of function shorthand that allows you to embed a function’s definition within the code that uses it\" <cite> Learning Python, 2013 </cite> \n",
    "\n",
    ">\"They tend to be simpler coding constructs in scenarios where you just need to embed small bits of executable code inline at the place it is to be used.\" <cite> Learning Python, 2013 </cite> \n",
    "\n",
    "- One use (of many) for lambdas is for *jump tables*,  which are lists or dictionaries of actions to be performed on demand"
   ]
  },
  {
   "cell_type": "code",
   "execution_count": null,
   "metadata": {},
   "outputs": [],
   "source": [
    "L = [lambda x: x ** 2,    # Inline function definition\n",
    "     lambda x: x ** 3, \n",
    "     lambda x: x ** 4]    # A list of three callable functions\n",
    "     "
   ]
  },
  {
   "cell_type": "code",
   "execution_count": null,
   "metadata": {},
   "outputs": [],
   "source": [
    "for f in L: print(f(2)) "
   ]
  },
  {
   "cell_type": "code",
   "execution_count": null,
   "metadata": {},
   "outputs": [],
   "source": [
    "print(L[0](3))         "
   ]
  },
  {
   "cell_type": "code",
   "execution_count": null,
   "metadata": {},
   "outputs": [],
   "source": [
    "# To reiterate functions are first class objects as we can:\n",
    "\n",
    "\n",
    "def klingon_greeting(name):\n",
    "    return f'nuqneH {name}!'  \n",
    "\n",
    "def english_greeting(name):\n",
    "    return f'Hello {name}!'\n",
    "\n",
    "def get_greeting_language(language):                   # Assign to a data structure\n",
    "    language_dict = {  \n",
    "        \"klingon\": klingon_greeting,\n",
    "        \"english\": english_greeting,\n",
    "    }\n",
    "    return language_dict[language]                     # Return from a function\n",
    "    \n",
    "def greeting(language, name, formatter):               # Pass as a parameter\n",
    "    greeting_func = get_greeting_language(language)\n",
    "    print(formatter(greeting_func(name)))\n",
    "    \n",
    "my_greeting = greeting                                 # Assign to a variable\n",
    "my_greeting('klingon', 'Lorena', str.lower)"
   ]
  },
  {
   "cell_type": "code",
   "execution_count": null,
   "metadata": {},
   "outputs": [],
   "source": []
  }
 ],
 "metadata": {
  "kernelspec": {
   "display_name": "Python 3",
   "language": "python",
   "name": "python3"
  },
  "language_info": {
   "codemirror_mode": {
    "name": "ipython",
    "version": 3
   },
   "file_extension": ".py",
   "mimetype": "text/x-python",
   "name": "python",
   "nbconvert_exporter": "python",
   "pygments_lexer": "ipython3",
   "version": "3.9.0"
  }
 },
 "nbformat": 4,
 "nbformat_minor": 4
}
