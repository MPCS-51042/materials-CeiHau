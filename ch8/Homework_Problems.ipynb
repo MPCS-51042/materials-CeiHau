{
 "cells": [
  {
   "cell_type": "markdown",
   "metadata": {},
   "source": [
    "## Problem 1\n",
    "\n",
    "Write a function called vectorize(func) that takes a function as its only positional argument and returns a new function that calls func multiple times. The new function should accept any number of positional arguments. If N arguments are passed to the new function, func is called N times with each of the values as a single argument. The new function should return a list of return values from each invocation of func.\n",
    "To get a feel for its use, take a look at the following example:\n",
    "\n",
    "from math import sqrt\n",
    "multisqrt = vectorize(sqrt)\n",
    "multisqrt(4.0, 25.0, 1.0, 10.0)\n",
    "[2.0, 5.0, 1.0, 3.1622776601683795]\n",
    "multisqrt(100.0, 9.0, 16.0)\n",
    "[10.0, 3.0, 4.0]"
   ]
  },
  {
   "cell_type": "markdown",
   "metadata": {},
   "source": [
    "## Problem 2\n",
    "\n",
    "### Note for Lauren: Are there some images that go with this?\n",
    "\n",
    "<span class=\"c1\">Prof. Romano's 4 year old daughter has fallen in love with the board game </span><span class=\"c10\"><a class=\"c9\" href=\"https://www.google.com/url?q=https://boardgamegeek.com/boardgame/94483/hoot-owl-hoot&amp;sa=D&amp;ust=1609624820928000&amp;usg=AOvVaw0yEdaz0odWuhx13mBP8z-q\">Hoot Owl Hoot</a></span><span class=\"c1\">&nbsp;and wants to know what the probability of winning the game is (if it's too low, she might become discouraged). Unfortunately, her father hasn't taught her how to program in Python yet, so she has asked you to write a program that will figure out the probability of winning by simulating the game repeatedly and counting the number of times that the game results in the players winning (an approach known as the </span><span class=\"c10\"><a class=\"c9\" href=\"https://www.google.com/url?q=https://en.wikipedia.org/wiki/Monte_Carlo_method&amp;sa=D&amp;ust=1609624820928000&amp;usg=AOvVaw1ozhLeavy4NNZkuufeC_5U\">Monte Carlo method</a></span><span class=\"c0\">).</span></p><h3 class=\"c7\" id=\"h.30j0zll\"><span class=\"c3\">Rules of the game</span></h3><p class=\"c6\"><span style=\"overflow: hidden; display: inline-block; margin: 0.00px 0.00px; border: 0.00px solid #000000; transform: rotate(0.00rad) translateZ(0px); -webkit-transform: rotate(0.00rad) translateZ(0px); width: 66.67px; height: 66.67px;\"><img alt=\"\" src=\"images/image1.png\" style=\"width: 66.67px; height: 66.67px; margin-left: -0.00px; margin-top: -0.00px; transform: rotate(0.00rad) translateZ(0px); -webkit-transform: rotate(0.00rad) translateZ(0px);\" title=\"\"></span></p><p class=\"c6\"><span class=\"c0\">Hoot Owl Hoot is a cooperative game, so either everyone wins or everyone loses. The objective of the game is to move all the owls around the board and into the nest before the sun rises. The owls start on the \"Start\" spaces on the right side of the board. You can choose to play with any number of owls you want (at least three and as many as six). The sun piece starts on \"Sun Start\" at the top of the board. There is a deck of 50 cards that includes 36 colored cards (six of each color on the board) and 14 sun cards. Each player (from 2-4 players) is dealt three cards. Players keep their cards face up in front of them so that they can work together to strategize how to move. If a player has a sun card, on her turn she must discard the sun and move the sun token one space; if she has all color cards, she discards any one color card, then moves any owl to the next open space of that color. Each space can only be occupied by a single owl. If an owl \"flies\" over an owl on a space of that color on its way to the next open space, all players make a hooting sound! After a player moves an owl, they should take a new card from the deck.</span></p><p class=\"c6\"><span class=\"c1\">If you're confused about the rules, you can watch this </span><span class=\"c10\"><a class=\"c9\" href=\"https://www.google.com/url?q=https://www.youtube.com/watch?v%3Dczk0V3mga0Q&amp;sa=D&amp;ust=1609624820929000&amp;usg=AOvVaw0zulR96aDPsckCNVWgAvfU\">short, informative video</a></span><span class=\"c1\">&nbsp;or read the </span><span class=\"c10\"><a class=\"c9\" href=\"https://www.google.com/url?q=https://github.com/mpcs-python/spring-2019-hw7-lcampbe1/blob/master/instructions.jpg&amp;sa=D&amp;ust=1609624820929000&amp;usg=AOvVaw3Xxj8PQ-ndbfjqg1jVEtp5\">instructions</a></span><span class=\"c0\">.</span></p><h3 class=\"c7\" id=\"h.1fob9te\"><span class=\"c3\">Simulating the game</span></h3><p class=\"c6\"><span class=\"c0\">You are to write a program that simulates the Hoot Owl Hoot game. Your program will need to keep track of:</span></p><ul class=\"c5 lst-kix_list_1-0 start\"><li class=\"c4\"><span class=\"c1\">The positions of the 3-6 owls on the board.</span></li><li class=\"c4\"><span class=\"c1\">The deck of cards</span></li><li class=\"c4\"><span class=\"c1\">The cards held by each of the 2-4 players. Since any player can move any owl, this implies that the players' hands and the owls positions should be stored separately.</span></li><li class=\"c6 c8\"><span class=\"c1\">The position of the sun.</span></li></ul><p class=\"c6\"><span class=\"c0\">Your program should have a loop for which the body corresponds to a single turn. The algorithm should roughly look as follows:</span></p><ol class=\"c5 lst-kix_list_2-0 start\" start=\"1\"><li class=\"c4\"><span class=\"c1\">Assign starting positions for the owls. Note that if fewer than six owls are used, the first few spaces on the board are unoccupied.</span></li><li class=\"c4\"><span class=\"c1\">Create a deck of cards and \"shuffle\" it. The easiest way to do this is to use the </span><span class=\"c10\"><a class=\"c9\" href=\"https://www.google.com/url?q=https://docs.python.org/3/library/random.html%23random.shuffle&amp;sa=D&amp;ust=1609624820930000&amp;usg=AOvVaw2lGf5hJu0GaG2TVaHC1aE1\">random.shuffle</a></span><span class=\"c1\">&nbsp;function from the standard library.</span></li><li class=\"c4\"><span class=\"c1\">Deal three cards to each player.</span></li><li class=\"c4\"><span class=\"c1\">Iterate over the player's turns. If you have a list storing the hand held by each player, one approach would be to cycle through it using </span><span class=\"c10\"><a class=\"c9\" href=\"https://www.google.com/url?q=https://docs.python.org/3/library/itertools.html%23itertools.cycle&amp;sa=D&amp;ust=1609624820931000&amp;usg=AOvVaw1ReATc8eK8eqeZcS8TQPP9\">itertools.cycle</a></span><span class=\"c1\">.</span></li><li class=\"c4\"><span class=\"c1\">If the current player has a sun in their hand, they must play it. The sun piece advances and they receive a new card (if the deck is not empty). If the sun has already risen (moved 13 times), the game is lost. If not, continue to the next player's turn.</span></li><li class=\"c4\"><span class=\"c1\">If the current player does not have a sun in their hand, they need to play a color. Here, the strategy you should implement is to move the owl who is furthest from the nest. Given the three cards the player is holding, determine which card would result in that owl moving the maximum number of spaces. If playing a card results in the owl moving to the nest, that card should be preferred. After the owl has been moved, the player receives a new card from the deck (if not empty).</span></li><li class=\"c6 c8\"><span class=\"c1\">If all owls have reached the nest, the game is won. Otherwise, proceed to the next player's turn.</span></li></ol><p class=\"c6\"><span class=\"c0\">You are free to implement the simulation using whatever classes and functions you'd like.</span></p><h3 class=\"c7\" id=\"h.3znysh7\"><span class=\"c3\">Determining the probability of winning</span></h3><p class=\"c6\"><span class=\"c0\">Once you have a function/class/module that can be used to simulate the game, write a separate function that repeatedly simulates the game, counts the number of times that the game is won, and prints out the probability of winning based on the observations (number of wins divided by number of games played) The game should be simulated at least 10,000 times to get good statistics. In addition, you should determine how the probability changes if we change the number of players and/or the number of owls. In your program, add a comment somewhere that lists the probability of winning with:</span></p><ul class=\"c5 lst-kix_list_3-0 start\"><li class=\"c4\"><span class=\"c1\">2 players and 3 owls</span></li><li class=\"c4\"><span class=\"c1\">2 players and 6 owls</span></li><li class=\"c4\"><span class=\"c1\">4 players and 3 owls</span></li><li class=\"c6 c8\"><span class=\"c1\">4 players and 6 owls</span></li></ul><p class=\"c6\"><span class=\"c0\">Although not required for credit, if you want to report not only the mean value of the win probability but also its standard deviation, it can be calculated as:</span></p><p class=\"c6\"><span style=\"overflow: hidden; display: inline-block; margin: 0.00px 0.00px; border: 0.00px solid #000000; transform: rotate(0.00rad) translateZ(0px); -webkit-transform: rotate(0.00rad) translateZ(0px); width: 66.67px; height: 66.67px;\"><img alt=\"\" src=\"images/image2.png\" style=\"width: 66.67px; height: 66.67px; margin-left: -0.00px; margin-top: -0.00px; transform: rotate(0.00rad) translateZ(0px); -webkit-transform: rotate(0.00rad) translateZ(0px);\" title=\"\"></span></p><p class=\"c11\"><span class=\"c0\">where p is the observed probability of winning (number of wins divided by number of trials).</span></p><p class=\"c14\"><span class=\"c2\"></span></p></body></html>"
   ]
  },
  {
   "cell_type": "code",
   "execution_count": null,
   "metadata": {},
   "outputs": [],
   "source": []
  }
 ],
 "metadata": {
  "kernelspec": {
   "display_name": "Python 3",
   "language": "python",
   "name": "python3"
  },
  "language_info": {
   "codemirror_mode": {
    "name": "ipython",
    "version": 3
   },
   "file_extension": ".py",
   "mimetype": "text/x-python",
   "name": "python",
   "nbconvert_exporter": "python",
   "pygments_lexer": "ipython3",
   "version": "3.6.8"
  }
 },
 "nbformat": 4,
 "nbformat_minor": 4
}
