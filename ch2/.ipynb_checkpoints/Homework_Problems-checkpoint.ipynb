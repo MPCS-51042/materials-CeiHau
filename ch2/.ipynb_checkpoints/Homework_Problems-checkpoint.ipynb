{
 "cells": [
  {
   "cell_type": "markdown",
   "metadata": {},
   "source": [
    "## Problem 0\n",
    "\n",
    "This is the very first problem, and since collections of items in programming are often zero-indexed, we'll call it Problem zero. You don't have to write code for this problem, but you do need to _read_ code and understand what it is doing.\n",
    "\n",
    "The other problems ask you to write code. To help you make sure your code is working, we have provided you with some tests in this file. Here is a test function that we will use to check your code against some examples:"
   ]
  },
  {
   "cell_type": "code",
   "execution_count": null,
   "metadata": {},
   "outputs": [],
   "source": [
    "def test(function, examples):\n",
    "    passed = 0\n",
    "    run = 0\n",
    "\n",
    "    for example in examples:\n",
    "        run += 1\n",
    "        expected = example[-1]\n",
    "        actual = function(*example[:-1])\n",
    "\n",
    "        if expected == actual: \n",
    "            passed += 1\n",
    "        else:\n",
    "            print(f\"Whoops. For example {example}, the function returned {actual}.\")\n",
    "\n",
    "    print(f\"\\n{passed} out of {run} examples worked as expected.\")"
   ]
  },
  {
   "cell_type": "markdown",
   "metadata": {},
   "source": [
    "For Problem 0, open the file called `problem_0.md` and explain what this function is doing by answering the following questions:\n",
    "\n",
    "1. What are the arguments and what types do these arguments need to have for this function to work?\n",
    "1. Walk us through the code line by line. What is happening here?\n",
    "1. Does this function have a return value? How do you know?"
   ]
  },
  {
   "cell_type": "markdown",
   "metadata": {},
   "source": [
    "## Problem 1\n",
    "\n",
    "Write a function called `find_twos` that accepts two strings of integers separated by commas and returns a list of integers that appear in both strings and have the digit 2 in them. There should be no duplicates in the output list. Make sure the program works when the lists have different lengths. The list should present the integers in the order that they appear in the _first_ string.\n",
    "\n",
    "When you've done Problem 1 correctly, running the following cell should produce \"10/10 examples worked as expected.\"\n",
    "\n",
    "For example:\n",
    "\n",
    "If you have the following inputs in your function:\n",
    "\n",
    "\"1, 2, 20,22, 44, 99\"\n",
    "\"3,5, 22, 100, 44, 2\"\n",
    "\n",
    "The output should be [2, 22]\n",
    "\n",
    "There should be no duplicates in your ouput.\n",
    "\n",
    "(**Note**: Unfortunately every time you make changes to your `problem_X.py` files, you have to rerun the kernel in this file to get the test to register the new code. We know, it's annoying. We're looking for a reliable fix. In the meantime, go to Kernel > Restart and run your test on your new and improved code!)"
   ]
  },
  {
   "cell_type": "code",
   "execution_count": null,
   "metadata": {},
   "outputs": [],
   "source": [
    "from problem_1 import find_twos\n",
    "\n",
    "find_twos_examples = [\n",
    "    (\"\", \"\", []),\n",
    "    (\"1\", \"1, 3\", []),\n",
    "    (\"2\", \"\", []),\n",
    "    (\"2\", \"1, 3\", []),\n",
    "    (\"2\", \"2\", [2]),\n",
    "    (\"2\", \"12\", []),\n",
    "    (\"12\", \"2, 12\", [12]),\n",
    "    (\"1, 3, 5, 12, 7, 200\", \"2, 6, 9, 200, 5\", [200]),\n",
    "    (\"1, 2, 20, 22, 44, 99\", \"3, 5, 22, 100, 44, 2\", [2, 22]),\n",
    "    (\"1,2, 20,22, 44, 99\", \"3,5, 22, 100, 44, 2\", [2, 22]),\n",
    "    (\"1,2, 20,22, 22,44, 20, 99\", \"3,5, 22, 100, 44, 2\", [2, 22]),\n",
    "    (\"1, 2, 20, 22\", \"3, 2, 20, 22\", [2, 20, 22]),\n",
    "]\n",
    "\n",
    "test(function=find_twos, examples=find_twos_examples)"
   ]
  },
  {
   "cell_type": "markdown",
   "metadata": {},
   "source": [
    "## Problem 2\n",
    "\n",
    "Write a function called `expand_letter_ranges` that accepts a comma-separated string of letters or letter ranges, and returns a sorted list of all the letters with the ranges expanded into individual letters. The input letters can be either lowercase or uppercase, but each string in the output list should be uppercase. It is not necessary to perform any error checking (ranges that are backwards, non-character input, etc.).\n",
    "    \n",
    "Note that there are built-in functions, `ord()` and `chr()`, that can convert single characters to integers and vice versa.\n",
    "\n",
    "When you've done it right, running the test in the following cell should produce \"5/5 examples worked as expected.\"\n",
    "\n",
    "If your function has the following input:\n",
    "\"b-D,z,m-q,n,C-E\"\n",
    "\n",
    "Then this is the expected output:\n",
    "['B', 'C', 'D', 'E', 'M', 'N', 'O', 'P', 'Q', 'Z']"
   ]
  },
  {
   "cell_type": "code",
   "execution_count": null,
   "metadata": {},
   "outputs": [],
   "source": [
    "from problem_2 import expand_letter_ranges\n",
    "\n",
    "expand_letter_ranges_examples = [\n",
    "    (\"\", []),\n",
    "    (\"a-f\", ['A','B','C','D','E','F']),\n",
    "    (\"b-D,z,m-q,n,C-E\", ['B','C','D','E','M','N','O','P','Q','Z']),\n",
    "    (\"q,r,a,t,v,y,z\", ['A','Q','R','T','V','A','A',]),\n",
    "    (\"b-D,z,m-q,n,C-E\", ['B','C','D','E','M','N','O','P','Q','Z']),\n",
    "]\n",
    "\n",
    "test(function=expand_letter_ranges, examples=expand_letter_ranges_examples)"
   ]
  },
  {
   "cell_type": "markdown",
   "metadata": {},
   "source": [
    "## Problem 3\n",
    "\n",
    "Write a function called `mean` that accepts a whitespace separated string of numbers (integers or floats) and returns their mean. \n",
    "\n",
    "For example, if your function in put was:\n",
    "\"1 2 3\"\n",
    "\n",
    "The expected output would be:\n",
    "2.0\n",
    "\n",
    "For this problem, you may want to use the built-in `sum()` function, which returns the sum of values in an iterable (such as a list).\n",
    "\n",
    "When you've done it right, running the test in the following cell should produce \"5/5 examples worked as expected.\""
   ]
  },
  {
   "cell_type": "code",
   "execution_count": null,
   "metadata": {},
   "outputs": [],
   "source": [
    "from problem_3 import mean\n",
    "\n",
    "mean_examples = [\n",
    "    (\"\", 0.0),\n",
    "    (\"1\", 1.0),\n",
    "    (\"1 2 3\", 2.0),\n",
    "    (\"1 2 3\", 2.0),\n",
    "    (\"1 2 3\", 2.0),\n",
    "]\n",
    "\n",
    "test(function=expand_letter_ranges, examples=expand_letter_ranges_examples)\n",
    "\n",
    "Enter numbers: 1 2 10 12 3.0 1.2e1\n",
    "Enter r: 2\n",
    "The rth sample central moment is 22.555555555555557."
   ]
  },
  {
   "cell_type": "markdown",
   "metadata": {},
   "source": [
    "## Problem 4\n",
    "\n",
    "What digits (1 through 9) can replace the letters A, B, and C such that the following equation is true?\n",
    "\n",
    "ABC = A×B×C × (A + B + C)\n",
    "\n",
    "For example, if A is 1, B is 2, and C is 3 and E is 3, the equation would be:\n",
    "\n",
    "123 ≠ 1×2×3×(1 + 2 + 3) = 36\n",
    "\n",
    "so 1, 2, and 3 are clearly not a solution. Rather than solving this problem with your raw brainpower, write a program that checks each combination of digits and returns a collection of the numbers for which it is satisfied, along with their result.\n",
    "\n",
    "When you've solved it correctly, the below cell should print \"Great job! You got it!\""
   ]
  },
  {
   "cell_type": "code",
   "execution_count": null,
   "metadata": {},
   "outputs": [],
   "source": [
    "from problem_4 import find_numbers\n",
    "\n",
    "solution = [\n",
    "    'For 1, 3, and 5, the equation solution is 135',\n",
    "    'For 1, 4, and 4, the equation solution is 144'\n",
    "]\n",
    "\n",
    "if find_numbers() == solution:\n",
    "    print(\"Great job! You got it!\")\n",
    "else:\n",
    "    print(\"Whoops. Try Again.\")"
   ]
  },
  {
   "cell_type": "markdown",
   "metadata": {},
   "source": [
    "## Problem 5\n",
    "\n",
    "Write a function called `find_day` that takes a collection of dates as slash-separated strings with the month first, then the day, then the year, and returns a collection of the same size with the day of the week on which each of those dates fell, in order.\n",
    "\n",
    "There is some implementation advice waiting for you in the `problem_5` file, but first, here's the test:"
   ]
  },
  {
   "cell_type": "code",
   "execution_count": null,
   "metadata": {},
   "outputs": [],
   "source": [
    "from problem_5 import find_day\n",
    "\n",
    "find_day_examples = [\n",
    "    ([\"\"], [\"Invalid Entry\"]),\n",
    "    ([\"/\"], [\"Invalid Entry\"]),\n",
    "    ([\"------\"], [\"Invalid Entry\"]),\n",
    "    ([\"2/29/2019\"], [\"Invalid Entry\"]),\n",
    "    ([\"45/2/1900\"], [\"Invalid Entry\"]),\n",
    "    ([\"-1/2/1900\"], [\"Invalid Entry\"]),\n",
    "    ([\"02/-2/2019\"], [\"Invalid Entry\"]),\n",
    "    ([\"12/43/2018\"], [\"Invalid Entry\"]),\n",
    "    ([\"3-4-2020\"], [\"Invalid Entry\"]),\n",
    "    ([\"07/4/2008\"], [\"Friday\"]),\n",
    "    ([\"01/08/2020\"], [\"Wednesday\"]),\n",
    "    ([\"01/8/1900\"], [\"Monday\"]),\n",
    "    ([\"02/21/2008\"], [\"Thursday\"]),\n",
    "    ([\"02/28/2020\", \"01/08/2020\", \"02/29/2020\"], [\"Friday\", \"Wednesday\", \"Saturday\"]),\n",
    "    ([\"02/28/2020\", \"01/08/2020\", \"02/29/2020\"], [\"Friday\", \"Wednesday\", \"Saturday\"])\n",
    "\n",
    "]\n",
    "\n",
    "test(function=find_day, examples=find_day_examples)"
   ]
  },
  {
   "cell_type": "markdown",
   "metadata": {},
   "source": [
    "## Problem 6\n",
    "\n",
    "Write a function called `power_status` that takes in a power grid, represented as a list of the statuses of several homes as a collection (\"status\" meaning whether their power is working or not), and a _section_ of that grid, represented as two tuples.\n",
    "\n",
    "The function then returns a list of booleans indicating the power status for each home in that sector.\n",
    "\n",
    "There is some implementation advice waiting for you in the `problem_6` file, but first, here's the test:"
   ]
  },
  {
   "cell_type": "code",
   "execution_count": null,
   "metadata": {},
   "outputs": [],
   "source": [
    "from problem_6 import power_status\n",
    "\n",
    "neighborhood_grid = [\n",
    "    [True,  True,  True],\n",
    "    [True,  False, False],\n",
    "    [False, True,  True]\n",
    "]\n",
    "\n",
    "power_status_examples = [\n",
    "    (neighborhood_grid, (0, 1), (0, 2), [True, True]),\n",
    "    (neighborhood_grid, (0, 2), (0, 2), [True, True, True, False]),\n",
    "    (neighborhood_grid, (0, 2), (1, 3), [True, True, False, False]),\n",
    "    (neighborhood_grid, (1, 2), (0, 3), [True, False, False]),\n",
    "    (neighborhood_grid, (1, 3), (0, 2), [True, False, False, True]),\n",
    "    (neighborhood_grid, (1, 3), (1, 3), [False, False, True, True]),\n",
    "    (neighborhood_grid, (2, 3), (0, 1), [False]),\n",
    "    (neighborhood_grid, (2, 3), (0, 3), [False, True, True]),\n",
    "    (neighborhood_grid, (0, 3), (0, 3), [True, True, True, True, False, False, False, True, True]),\n",
    "    (neighborhood_grid, (0, 3), (0, 2), [True, True, True, False, False, True]),\n",
    "    (neighborhood_grid, (0, 3), (1, 3), [True, True, False, False, True, True]),\n",
    "    (neighborhood_grid, (0, 3), (2, 3), [True, False, True]),\n",
    "]\n",
    "\n",
    "test(function=power_status, examples=power_status_examples)"
   ]
  }
 ],
 "metadata": {
  "kernelspec": {
   "display_name": "Python 3",
   "language": "python",
   "name": "python3"
  },
  "language_info": {
   "codemirror_mode": {
    "name": "ipython",
    "version": 3
   },
   "file_extension": ".py",
   "mimetype": "text/x-python",
   "name": "python",
   "nbconvert_exporter": "python",
   "pygments_lexer": "ipython3",
   "version": "3.6.10"
  }
 },
 "nbformat": 4,
 "nbformat_minor": 1
}
