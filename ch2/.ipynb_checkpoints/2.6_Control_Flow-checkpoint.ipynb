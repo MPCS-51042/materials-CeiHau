{
 "cells": [
  {
   "cell_type": "markdown",
   "metadata": {},
   "source": [
    "### Python is a whitespaced language. \n",
    "\n",
    "- Java, Ruby, C++, Kotlin, and Swift use braces ``{}`` to designate code blocks.\n",
    "- Lisp/Scheme/Rackt family languages us parentheses `()`.\n",
    "- Python uses indentation to signify code blocks.\n",
    "\n",
    "Statements indented to the same distance belong to the same block of code.\n",
    "\n",
    "Blocks end:\n",
    "  - When the end of file is detected.\n",
    "  - When a lesser-indented line is detected.\n",
    "\n",
    "Deeply nested blocks are further indented to the right."
   ]
  },
  {
   "cell_type": "markdown",
   "metadata": {},
   "source": [
    "#### If Statments \n",
    "\n",
    "The ``if`` statement allows for selecting from alternative actions based on conditional expression results. \n",
    "\n",
    "Notes: \n",
    " - There needs to be a colon (``:``) after the end of the condition (or the ``else`` keyword) to signal the beginning of the clause block \n",
    " - Both the ``elif`` and ``else`` statements are optional.\n",
    " - Parentheses around the conditional expressions are optional. \n",
    " - Lines below the ``if``, ``elif``, or ``else`` must be indented over 4 spaces."
   ]
  },
  {
   "cell_type": "code",
   "execution_count": null,
   "metadata": {},
   "outputs": [],
   "source": [
    "bird_weight_in_grams = 131\n",
    "\n",
    "#Determine the likely subspecies of bird based on weight\n",
    "if bird_weight_in_grams < 100:\n",
    "    print(\"Budgie\")\n",
    "elif bird_weight_in_grams < 200: #Else if clause, if the first condition fails then we try the next else if\n",
    "    print(\"Sun Conure\")\n",
    "elif bird_weight_in_grams < 1000:\n",
    "    print(\"Toucan\")\n",
    "else: \n",
    "    print(\"Maccaw\")"
   ]
  },
  {
   "cell_type": "markdown",
   "metadata": {},
   "source": [
    "### For statements \n",
    "\n",
    "The ``for`` statement is a looping statement that steps through items in any sequence or *iterable object* (more on this later...)"
   ]
  },
  {
   "cell_type": "code",
   "execution_count": null,
   "metadata": {},
   "outputs": [],
   "source": [
    "bird_weights = [55, 121, 650, 1400, 340]\n",
    "\n",
    "for weight in bird_weights: \n",
    "    species = ''\n",
    "    if weight < 100:\n",
    "        species = \"Budgie\"\n",
    "    elif weight < 200:\n",
    "        species = \"Sun Conure\"\n",
    "    elif weight < 1000:\n",
    "        species = \"Toucan\"\n",
    "    else: \n",
    "        species = \"Maccaw\"   \n",
    "    output = f'This bird weighs {weight} grams and might be a {species}'\n",
    "    print(output)"
   ]
  },
  {
   "cell_type": "code",
   "execution_count": null,
   "metadata": {},
   "outputs": [],
   "source": [
    "# Useful For loop Idioms \n",
    "\n",
    "# Iterating over a range of numbers using range \n",
    "for num in range(10):\n",
    "    print(num)"
   ]
  },
  {
   "cell_type": "code",
   "execution_count": null,
   "metadata": {},
   "outputs": [],
   "source": [
    "# Iterating over first 20 even numbers \n",
    "for even_num in range(2,21,2): # 21 because the stop is exclusive \n",
    "    print(even_num)"
   ]
  },
  {
   "cell_type": "code",
   "execution_count": null,
   "metadata": {},
   "outputs": [],
   "source": [
    "# Iterating over a collection of items and their indicies \n",
    "# Call the \"enumerate\" function on the sequence \n",
    "bird_weights = [55, 121, 650, 1400, 340]\n",
    "\n",
    "for index, element in enumerate(bird_weights):\n",
    "    print(f'Index = {index}, Bird Weight = {element}')"
   ]
  },
  {
   "cell_type": "markdown",
   "metadata": {},
   "source": [
    "### While Statement \n",
    "\n",
    "A ``while`` loop repeatedly executes a block of statements as long as its condition expression evaluates to a ``True`` value."
   ]
  },
  {
   "cell_type": "code",
   "execution_count": null,
   "metadata": {},
   "outputs": [],
   "source": [
    "bird_weights = [55, 121, 650, 1400, 340]\n",
    "\n",
    "large_bird_spotted = False\n",
    "index = 0\n",
    "while not large_bird_spotted: \n",
    "    bird_weight = bird_weights[index]\n",
    "    index = index + 1\n",
    "    if bird_weight > 1000:\n",
    "        large_bird_spotted = True \n",
    "        break\n",
    "    else:\n",
    "        continue \n",
    "        \n",
    "print(f\"This bird weighing {bird_weight} grams is a big honkin' bird!\")"
   ]
  },
  {
   "cell_type": "markdown",
   "metadata": {},
   "source": [
    "### Functions \n",
    "\n",
    "A *function* is a set of statements that can be called more than once. \n",
    "\n",
    "Benefits of functions:\n",
    " - Encapsulation: package logic for use in multiple places\n",
    " - Procedural decomposition: split our program into subtasks (i.e., functions) with separate roles.\n",
    " - Make life easier for debugging, testing, doing maintenance on code"
   ]
  },
  {
   "cell_type": "markdown",
   "metadata": {},
   "source": [
    "### Steps to define a function:\n",
    " \n",
    " 1. The ``def`` defines a new function called ``name``.\n",
    " 2. Define zero or more parameters separated by commas in parentheses\n",
    " 3. A colon to indicate the beginning of the function body.\n",
    " 4. Functions ca define a **docstring** that provides a description of the function.\n",
    " 4. Statements inside function are indented and don’t run until the function is called\n",
    " 5. ``return`` can appear anywhere in body of function\n",
    "    - Can also be omitted. A function that does not return a value will return ``None`` by default. \n",
    "\n",
    "\n"
   ]
  },
  {
   "cell_type": "code",
   "execution_count": null,
   "metadata": {},
   "outputs": [],
   "source": [
    "def identify_bird(weight): \n",
    "    '''\n",
    "    Identifies birds (approximately) by their weight \n",
    "    \n",
    "    Inputs: \n",
    "       weight(float): the bird's weight in grams \n",
    "    \n",
    "    Output:\n",
    "       Returns the likely species of the bird as a string\n",
    "    \n",
    "    '''\n",
    "    species = ''\n",
    "    if weight < 100:\n",
    "        species = \"Budgie\"\n",
    "    elif weight < 200:\n",
    "        species = \"Sun Conure\"\n",
    "    elif weight < 1000:\n",
    "        species = \"Toucan\"\n",
    "    else: \n",
    "        species = \"Maccaw\"   \n",
    "        \n",
    "    return species \n",
    "\n",
    "# Call the function by specifying its name followed by any necessary arguments to the function \n",
    "print(identify_bird(17))\n",
    "print(identify_bird(240))"
   ]
  },
  {
   "cell_type": "markdown",
   "metadata": {},
   "source": [
    "#### Pass statement \n",
    "\n",
    "The ``pass`` statement useful when you are not ready to write the implementation for a code block. The statement allows the interpreter to perform no operation and to continue processing the next statement. "
   ]
  },
  {
   "cell_type": "code",
   "execution_count": null,
   "metadata": {},
   "outputs": [],
   "source": [
    "def identify_bird(weight): \n",
    "    '''\n",
    "    Identifies birds (approximately) by their weight \n",
    "    \n",
    "    Inputs: \n",
    "       weight(float): the bird's weight in grams \n",
    "    \n",
    "    Output:\n",
    "       Returns the likely species of the bird as a string\n",
    "    \n",
    "    '''\n",
    "    pass # IMPLEMENT ME\n",
    "\n",
    "print(\"----begin processing bird weights---\")\n",
    "print(identify_bird(450)) # No error, prints None because we do not have a return statement so None is returned \n",
    "print(identify_bird(1500)) # No error, prints None because we do not have a return statement so None is returned \n",
    "print(\"Done.\")"
   ]
  },
  {
   "cell_type": "code",
   "execution_count": null,
   "metadata": {},
   "outputs": [],
   "source": [
    "# Pass can be used in any code block statements: loops, classes (later), functions, etc. \n",
    "\n",
    "print(\"Start\")\n",
    "for r in range(10):\n",
    "    pass \n",
    "print(\"Done\")"
   ]
  }
 ],
 "metadata": {
  "kernelspec": {
   "display_name": "Python 3",
   "language": "python",
   "name": "python3"
  },
  "language_info": {
   "codemirror_mode": {
    "name": "ipython",
    "version": 3
   },
   "file_extension": ".py",
   "mimetype": "text/x-python",
   "name": "python",
   "nbconvert_exporter": "python",
   "pygments_lexer": "ipython3",
   "version": "3.6.8"
  }
 },
 "nbformat": 4,
 "nbformat_minor": 1
}
